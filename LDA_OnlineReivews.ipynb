{
 "cells": [
  {
   "cell_type": "code",
   "execution_count": 2,
   "metadata": {},
   "outputs": [],
   "source": [
    "# import nltk\n",
    "# from nltk import FreqDist\n",
    "# nltk.download('stopwords') # run this one time"
   ]
  },
  {
   "cell_type": "code",
   "execution_count": 3,
   "metadata": {},
   "outputs": [
    {
     "name": "stderr",
     "output_type": "stream",
     "text": [
      "c:\\users\\bishn_000\\appdata\\local\\programs\\python\\python37\\lib\\site-packages\\nltk\\decorators.py:68: DeprecationWarning: `formatargspec` is deprecated since Python 3.5. Use `signature` and the `Signature` object directly\n",
      "  regargs, varargs, varkwargs, defaults, formatvalue=lambda value: \"\"\n"
     ]
    }
   ],
   "source": [
    "import pandas as pd\n",
    "import numpy as np\n",
    "import re\n",
    "import spacy\n",
    "\n",
    "import gensim\n",
    "from gensim import corpora\n",
    "\n",
    "# Libraries for visualization\n",
    "\n",
    "import pyLDAvis\n",
    "import pyLDAvis.gensim\n",
    "import matplotlib.pyplot as plt\n",
    "import seaborn as sns\n",
    "\n",
    "\n",
    "# nltk libraries\n",
    "from nltk.tokenize import word_tokenize\n",
    "from nltk import FreqDist\n",
    "from nltk.corpus import stopwords\n",
    "from nltk.stem import WordNetLemmatizer\n",
    "\n",
    "%matplotlib inline\n",
    "pd.set_option(\"display.max_colwidth\", 200)"
   ]
  },
  {
   "cell_type": "code",
   "execution_count": 4,
   "metadata": {},
   "outputs": [
    {
     "data": {
      "text/html": [
       "<div>\n",
       "<style scoped>\n",
       "    .dataframe tbody tr th:only-of-type {\n",
       "        vertical-align: middle;\n",
       "    }\n",
       "\n",
       "    .dataframe tbody tr th {\n",
       "        vertical-align: top;\n",
       "    }\n",
       "\n",
       "    .dataframe thead th {\n",
       "        text-align: right;\n",
       "    }\n",
       "</style>\n",
       "<table border=\"1\" class=\"dataframe\">\n",
       "  <thead>\n",
       "    <tr style=\"text-align: right;\">\n",
       "      <th></th>\n",
       "      <th>reviewerID</th>\n",
       "      <th>asin</th>\n",
       "      <th>reviewerName</th>\n",
       "      <th>helpful</th>\n",
       "      <th>reviewText</th>\n",
       "      <th>overall</th>\n",
       "      <th>summary</th>\n",
       "      <th>unixReviewTime</th>\n",
       "      <th>reviewTime</th>\n",
       "    </tr>\n",
       "  </thead>\n",
       "  <tbody>\n",
       "    <tr>\n",
       "      <td>0</td>\n",
       "      <td>A3F73SC1LY51OO</td>\n",
       "      <td>B00002243X</td>\n",
       "      <td>Alan Montgomery</td>\n",
       "      <td>[4, 4]</td>\n",
       "      <td>I needed a set of jumper cables for my new car and these had good reviews and were at a good price.  They have been used a few times already and do what they are supposed to - no complaints there....</td>\n",
       "      <td>5</td>\n",
       "      <td>Work Well - Should Have Bought Longer Ones</td>\n",
       "      <td>1313539200</td>\n",
       "      <td>08 17, 2011</td>\n",
       "    </tr>\n",
       "    <tr>\n",
       "      <td>1</td>\n",
       "      <td>A20S66SKYXULG2</td>\n",
       "      <td>B00002243X</td>\n",
       "      <td>alphonse</td>\n",
       "      <td>[1, 1]</td>\n",
       "      <td>These long cables work fine for my truck, but the quality seems a little on the shabby side. For the money I was not expecting 200 dollar snap-on jumper cables but these seem more like what you wo...</td>\n",
       "      <td>4</td>\n",
       "      <td>Okay long cables</td>\n",
       "      <td>1315094400</td>\n",
       "      <td>09 4, 2011</td>\n",
       "    </tr>\n",
       "    <tr>\n",
       "      <td>2</td>\n",
       "      <td>A2I8LFSN2IS5EO</td>\n",
       "      <td>B00002243X</td>\n",
       "      <td>Chris</td>\n",
       "      <td>[0, 0]</td>\n",
       "      <td>Can't comment much on these since they have not yet been used (I will come back and update my review is I find any issues after first use) ... but they are built solid, nice tough big hard clamps ...</td>\n",
       "      <td>5</td>\n",
       "      <td>Looks and feels heavy Duty</td>\n",
       "      <td>1374710400</td>\n",
       "      <td>07 25, 2013</td>\n",
       "    </tr>\n",
       "    <tr>\n",
       "      <td>3</td>\n",
       "      <td>A3GT2EWQSO45ZG</td>\n",
       "      <td>B00002243X</td>\n",
       "      <td>DeusEx</td>\n",
       "      <td>[19, 19]</td>\n",
       "      <td>I absolutley love Amazon!!!  For the price of a set of cheap Booster/Jumper Cables in a brick and morter store, you can buy extra long and heavy duty jumpers!  First off, don't be the person that ...</td>\n",
       "      <td>5</td>\n",
       "      <td>Excellent choice for Jumper Cables!!!</td>\n",
       "      <td>1292889600</td>\n",
       "      <td>12 21, 2010</td>\n",
       "    </tr>\n",
       "    <tr>\n",
       "      <td>4</td>\n",
       "      <td>A3ESWJPAVRPWB4</td>\n",
       "      <td>B00002243X</td>\n",
       "      <td>E. Hernandez</td>\n",
       "      <td>[0, 0]</td>\n",
       "      <td>I purchased the 12' feet long cable set and they arrived in a retail cardboard box with handle, which could be used as a storage and carrying case for these cables, although I will not need to sto...</td>\n",
       "      <td>5</td>\n",
       "      <td>Excellent, High Quality Starter Cables</td>\n",
       "      <td>1341360000</td>\n",
       "      <td>07 4, 2012</td>\n",
       "    </tr>\n",
       "  </tbody>\n",
       "</table>\n",
       "</div>"
      ],
      "text/plain": [
       "       reviewerID        asin     reviewerName   helpful  \\\n",
       "0  A3F73SC1LY51OO  B00002243X  Alan Montgomery    [4, 4]   \n",
       "1  A20S66SKYXULG2  B00002243X         alphonse    [1, 1]   \n",
       "2  A2I8LFSN2IS5EO  B00002243X            Chris    [0, 0]   \n",
       "3  A3GT2EWQSO45ZG  B00002243X           DeusEx  [19, 19]   \n",
       "4  A3ESWJPAVRPWB4  B00002243X     E. Hernandez    [0, 0]   \n",
       "\n",
       "                                                                                                                                                                                                reviewText  \\\n",
       "0  I needed a set of jumper cables for my new car and these had good reviews and were at a good price.  They have been used a few times already and do what they are supposed to - no complaints there....   \n",
       "1  These long cables work fine for my truck, but the quality seems a little on the shabby side. For the money I was not expecting 200 dollar snap-on jumper cables but these seem more like what you wo...   \n",
       "2  Can't comment much on these since they have not yet been used (I will come back and update my review is I find any issues after first use) ... but they are built solid, nice tough big hard clamps ...   \n",
       "3  I absolutley love Amazon!!!  For the price of a set of cheap Booster/Jumper Cables in a brick and morter store, you can buy extra long and heavy duty jumpers!  First off, don't be the person that ...   \n",
       "4  I purchased the 12' feet long cable set and they arrived in a retail cardboard box with handle, which could be used as a storage and carrying case for these cables, although I will not need to sto...   \n",
       "\n",
       "   overall                                     summary  unixReviewTime  \\\n",
       "0        5  Work Well - Should Have Bought Longer Ones      1313539200   \n",
       "1        4                            Okay long cables      1315094400   \n",
       "2        5                  Looks and feels heavy Duty      1374710400   \n",
       "3        5       Excellent choice for Jumper Cables!!!      1292889600   \n",
       "4        5      Excellent, High Quality Starter Cables      1341360000   \n",
       "\n",
       "    reviewTime  \n",
       "0  08 17, 2011  \n",
       "1   09 4, 2011  \n",
       "2  07 25, 2013  \n",
       "3  12 21, 2010  \n",
       "4   07 4, 2012  "
      ]
     },
     "execution_count": 4,
     "metadata": {},
     "output_type": "execute_result"
    }
   ],
   "source": [
    "# Read the data file and store in a Pandas DataFrame\n",
    "\n",
    "df = pd.read_json('data/Automotive_5.json', lines=True)\n",
    "df.head()"
   ]
  },
  {
   "cell_type": "code",
   "execution_count": 5,
   "metadata": {},
   "outputs": [],
   "source": [
    "def getFrequencyDistribution(words, num = 20):\n",
    "    \n",
    "    fdist = FreqDist(words)\n",
    "    words_df = pd.DataFrame({'word':list(fdist.keys()), 'count':list(fdist.values())})\n",
    "\n",
    "    # selecting top 'num' most frequent words\n",
    "    d = words_df.nlargest(columns=\"count\", n = num) \n",
    "    plt.figure(figsize=(20,5))\n",
    "    ax = sns.barplot(data=d, x= \"word\", y = \"count\")\n",
    "    ax.set(ylabel = 'Count')\n",
    "    plt.show()\n",
    "    \n",
    "    return words_df"
   ]
  },
  {
   "cell_type": "code",
   "execution_count": 6,
   "metadata": {},
   "outputs": [],
   "source": [
    "def removeStopWords(text):\n",
    "    stop_words = set(stopwords.words('english'))\n",
    "    return [w for w in text if not w in stop_words and len(w) > 2]"
   ]
  },
  {
   "cell_type": "code",
   "execution_count": 7,
   "metadata": {},
   "outputs": [],
   "source": [
    "def removeNumbersAndSymbols(words):\n",
    "    return [w.lower() for w in words if w.isalpha()]"
   ]
  },
  {
   "cell_type": "code",
   "execution_count": 8,
   "metadata": {},
   "outputs": [],
   "source": [
    "def runLemmatization(text): # filter noun and adjective\n",
    "    lemmatizer = WordNetLemmatizer()\n",
    "    return [lemmatizer.lemmatize(w) for w in text]"
   ]
  },
  {
   "cell_type": "code",
   "execution_count": 9,
   "metadata": {},
   "outputs": [],
   "source": [
    "def executeMethod(reviews, method):\n",
    "    return [method(rev) for rev in reviews]"
   ]
  },
  {
   "cell_type": "code",
   "execution_count": 18,
   "metadata": {},
   "outputs": [],
   "source": [
    "def getAllWords(reviews):\n",
    "    return [w for rev in reviews for w in rev]"
   ]
  },
  {
   "cell_type": "code",
   "execution_count": 10,
   "metadata": {},
   "outputs": [
    {
     "name": "stdout",
     "output_type": "stream",
     "text": [
      "['These', 'long', 'cables', 'work', 'fine', 'for', 'my', 'truck', ',', 'but', 'the', 'quality', 'seems', 'a', 'little', 'on', 'the', 'shabby', 'side', '.', 'For', 'the', 'money', 'I', 'was', 'not', 'expecting', '200', 'dollar', 'snap-on', 'jumper', 'cables', 'but', 'these', 'seem', 'more', 'like', 'what', 'you', 'would', 'see', 'at', 'a', 'chinese', 'knock', 'off', 'shop', 'like', 'harbor', 'freight', 'for', '30', 'bucks', '.']\n"
     ]
    }
   ],
   "source": [
    "tokenized_reviews = [word_tokenize(rev) for rev in df['reviewText']]\n",
    "\n",
    "print(tokenized_reviews[1])\n",
    "\n",
    "# freqDist = getFrequencyDistribution(all_words, 30)"
   ]
  },
  {
   "cell_type": "code",
   "execution_count": 11,
   "metadata": {},
   "outputs": [],
   "source": [
    "filtered_revs = executeMethod(tokenized_reviews, removeNumbersAndSymbols)\n",
    "filtered_revs = executeMethod(filtered_revs, removeStopWords)\n",
    "\n",
    "#freqDist = getFrequencyDistribution(sum(filtered_revs,[]), 30)"
   ]
  },
  {
   "cell_type": "code",
   "execution_count": 12,
   "metadata": {},
   "outputs": [],
   "source": [
    "lemmatized_revs = executeMethod(filtered_revs, runLemmatization)\n",
    "#freqDist = getFrequencyDistribution(lemmatized_words, 30)"
   ]
  },
  {
   "cell_type": "code",
   "execution_count": 21,
   "metadata": {},
   "outputs": [
    {
     "data": {
      "image/png": "[encoded data removed]",
      "text/plain": [
       "<Figure size 1440x360 with 1 Axes>"
      ]
     },
     "metadata": {
      "needs_background": "light"
     },
     "output_type": "display_data"
    }
   ],
   "source": [
    "all_words = getAllWords(lemmatized_revs)\n",
    "freqDist = getFrequencyDistribution(all_words)"
   ]
  },
  {
   "cell_type": "code",
   "execution_count": 26,
   "metadata": {},
   "outputs": [],
   "source": [
    "# Create Dictionary\n",
    "dictionary = corpora.Dictionary(lemmatized_revs)\n",
    "\n",
    "#convert to document term matrix\n",
    "doc_term_matrix = [dictionary.doc2bow(rev) for rev in lemmatized_revs]"
   ]
  },
  {
   "cell_type": "code",
   "execution_count": 28,
   "metadata": {},
   "outputs": [],
   "source": [
    "# Creating the object for LDA model using gensim library\n",
    "LDA = gensim.models.ldamodel.LdaModel\n",
    "\n",
    "# Build LDA model (Uncomment for training)\n",
    "# lda_model = LDA(corpus=doc_term_matrix, id2word=dictionary, num_topics=7, random_state=100,chunksize=1000, passes=50)"
   ]
  },
  {
   "cell_type": "code",
   "execution_count": 29,
   "metadata": {},
   "outputs": [
    {
     "data": {
      "text/plain": [
       "[(0,\n",
       "  '0.032*\"car\" + 0.022*\"product\" + 0.019*\"towel\" + 0.017*\"use\" + 0.013*\"wax\" + 0.011*\"water\" + 0.011*\"used\" + 0.010*\"wash\" + 0.010*\"great\" + 0.009*\"good\"'),\n",
       " (1,\n",
       "  '0.053*\"blade\" + 0.045*\"wiper\" + 0.020*\"windshield\" + 0.011*\"rain\" + 0.011*\"snow\" + 0.010*\"bosch\" + 0.009*\"side\" + 0.009*\"last\" + 0.009*\"year\" + 0.008*\"old\"'),\n",
       " (2,\n",
       "  '0.037*\"light\" + 0.027*\"battery\" + 0.016*\"car\" + 0.015*\"bulb\" + 0.014*\"power\" + 0.010*\"device\" + 0.010*\"led\" + 0.009*\"one\" + 0.009*\"unit\" + 0.008*\"bright\"'),\n",
       " (3,\n",
       "  '0.015*\"use\" + 0.011*\"keep\" + 0.010*\"great\" + 0.010*\"work\" + 0.010*\"easy\" + 0.009*\"water\" + 0.008*\"trailer\" + 0.007*\"mat\" + 0.007*\"well\" + 0.007*\"bag\"'),\n",
       " (4,\n",
       "  '0.014*\"like\" + 0.011*\"leather\" + 0.010*\"would\" + 0.009*\"get\" + 0.009*\"well\" + 0.009*\"look\" + 0.008*\"product\" + 0.007*\"work\" + 0.007*\"really\" + 0.007*\"good\"'),\n",
       " (5,\n",
       "  '0.013*\"car\" + 0.011*\"oil\" + 0.010*\"one\" + 0.010*\"product\" + 0.009*\"filter\" + 0.009*\"price\" + 0.008*\"work\" + 0.007*\"great\" + 0.007*\"engine\" + 0.007*\"amazon\"'),\n",
       " (6,\n",
       "  '0.016*\"tire\" + 0.016*\"one\" + 0.012*\"hose\" + 0.012*\"fit\" + 0.011*\"easy\" + 0.010*\"well\" + 0.009*\"work\" + 0.009*\"good\" + 0.008*\"would\" + 0.008*\"use\"')]"
      ]
     },
     "execution_count": 29,
     "metadata": {},
     "output_type": "execute_result"
    }
   ],
   "source": [
    "lda_model.print_topics()"
   ]
  },
  {
   "cell_type": "code",
   "execution_count": 30,
   "metadata": {},
   "outputs": [
    {
     "name": "stderr",
     "output_type": "stream",
     "text": [
      "c:\\users\\bishn_000\\appdata\\local\\programs\\python\\python37\\lib\\site-packages\\pyLDAvis\\_prepare.py:257: FutureWarning: Sorting because non-concatenation axis is not aligned. A future version\n",
      "of pandas will change to not sort by default.\n",
      "\n",
      "To accept the future behavior, pass 'sort=False'.\n",
      "\n",
      "To retain the current behavior and silence the warning, pass 'sort=True'.\n",
      "\n",
      "  return pd.concat([default_term_info] + list(topic_dfs))\n"
     ]
    },
    {
     "data": {
      "text/html": [
       "\n",
       "<link rel=\"stylesheet\" type=\"text/css\" href=\"https://cdn.rawgit.com/bmabey/pyLDAvis/files/ldavis.v1.0.0.css\">\n",
       "\n",
       "\n",
       "<div id=\"ldavis_el614816710577540563518467653\"></div>\n",
       "<script type=\"text/javascript\">\n",
       "\n",
       "var ldavis_el614816710577540563518467653_data = {\"mdsDat\": {\"x\": [0.024230892267964023, 0.012333205304914866, -0.03362178016155362, -0.0959476960471027, 0.004257650806750164, -0.2018521696034351, 0.29059989743246184], \"y\": [-0.086670605709491, -0.12141696611901048, -0.08065224756789871, 0.03884290205593359, -0.1082565149306983, 0.20104626941195983, 0.15710716285920467], \"topics\": [1, 2, 3, 4, 5, 6, 7], \"cluster\": [1, 1, 1, 1, 1, 1, 1], \"Freq\": [19.6553955078125, 18.00648307800293, 17.411548614501953, 16.212249755859375, 12.652270317077637, 10.285882949829102, 5.776181697845459]}, \"tinfo\": {\"Category\": [\"Default\", \"Default\", \"Default\", \"Default\", \"Default\", \"Default\", \"Default\", \"Default\", \"Default\", \"Default\", \"Default\", \"Default\", \"Default\", \"Default\", \"Default\", \"Default\", \"Default\", \"Default\", \"Default\", \"Default\", \"Default\", \"Default\", \"Default\", \"Default\", \"Default\", \"Default\", \"Default\", \"Default\", \"Default\", \"Default\", \"Topic1\", \"Topic1\", \"Topic1\", \"Topic1\", \"Topic1\", \"Topic1\", \"Topic1\", \"Topic1\", \"Topic1\", \"Topic1\", \"Topic1\", \"Topic1\", \"Topic1\", \"Topic1\", \"Topic1\", \"Topic1\", \"Topic1\", \"Topic1\", \"Topic1\", \"Topic1\", \"Topic1\", \"Topic1\", \"Topic1\", \"Topic1\", \"Topic1\", \"Topic1\", \"Topic1\", \"Topic1\", \"Topic1\", \"Topic1\", \"Topic1\", \"Topic1\", \"Topic1\", \"Topic1\", \"Topic1\", \"Topic1\", \"Topic1\", \"Topic1\", \"Topic1\", \"Topic1\", \"Topic1\", \"Topic1\", \"Topic1\", \"Topic1\", \"Topic1\", \"Topic1\", \"Topic1\", \"Topic1\", \"Topic1\", \"Topic1\", \"Topic1\", \"Topic1\", \"Topic1\", \"Topic1\", \"Topic1\", \"Topic1\", \"Topic1\", \"Topic1\", \"Topic1\", \"Topic1\", \"Topic1\", \"Topic1\", \"Topic1\", \"Topic1\", \"Topic1\", \"Topic1\", \"Topic1\", \"Topic1\", \"Topic1\", \"Topic2\", \"Topic2\", \"Topic2\", \"Topic2\", \"Topic2\", \"Topic2\", \"Topic2\", \"Topic2\", \"Topic2\", \"Topic2\", \"Topic2\", \"Topic2\", \"Topic2\", \"Topic2\", \"Topic2\", \"Topic2\", \"Topic2\", \"Topic2\", \"Topic2\", \"Topic2\", \"Topic2\", \"Topic2\", \"Topic2\", \"Topic2\", \"Topic2\", \"Topic2\", \"Topic2\", \"Topic2\", \"Topic2\", \"Topic2\", \"Topic2\", \"Topic2\", \"Topic2\", \"Topic2\", \"Topic2\", \"Topic2\", \"Topic2\", \"Topic2\", \"Topic2\", \"Topic2\", \"Topic2\", \"Topic2\", \"Topic2\", \"Topic2\", \"Topic2\", \"Topic2\", \"Topic2\", \"Topic2\", \"Topic2\", \"Topic2\", \"Topic2\", \"Topic2\", \"Topic2\", \"Topic2\", \"Topic2\", \"Topic2\", \"Topic2\", \"Topic2\", \"Topic2\", \"Topic2\", \"Topic3\", \"Topic3\", \"Topic3\", \"Topic3\", \"Topic3\", \"Topic3\", \"Topic3\", \"Topic3\", \"Topic3\", \"Topic3\", \"Topic3\", \"Topic3\", \"Topic3\", \"Topic3\", \"Topic3\", \"Topic3\", \"Topic3\", \"Topic3\", \"Topic3\", \"Topic3\", \"Topic3\", \"Topic3\", \"Topic3\", \"Topic3\", \"Topic3\", \"Topic3\", \"Topic3\", \"Topic3\", \"Topic3\", \"Topic3\", \"Topic3\", \"Topic3\", \"Topic3\", \"Topic3\", \"Topic3\", \"Topic3\", \"Topic3\", \"Topic3\", \"Topic3\", \"Topic3\", \"Topic3\", \"Topic3\", \"Topic3\", \"Topic3\", \"Topic3\", \"Topic3\", \"Topic3\", \"Topic3\", \"Topic3\", \"Topic3\", \"Topic3\", \"Topic3\", \"Topic3\", \"Topic3\", \"Topic3\", \"Topic3\", \"Topic3\", \"Topic3\", \"Topic3\", \"Topic3\", \"Topic3\", \"Topic3\", \"Topic3\", \"Topic3\", \"Topic4\", \"Topic4\", \"Topic4\", \"Topic4\", \"Topic4\", \"Topic4\", \"Topic4\", \"Topic4\", \"Topic4\", \"Topic4\", \"Topic4\", \"Topic4\", \"Topic4\", \"Topic4\", \"Topic4\", \"Topic4\", \"Topic4\", \"Topic4\", \"Topic4\", \"Topic4\", \"Topic4\", \"Topic4\", \"Topic4\", \"Topic4\", \"Topic4\", \"Topic4\", \"Topic4\", \"Topic4\", \"Topic4\", \"Topic4\", \"Topic4\", \"Topic4\", \"Topic4\", \"Topic4\", \"Topic4\", \"Topic4\", \"Topic4\", \"Topic4\", \"Topic4\", \"Topic4\", \"Topic4\", \"Topic4\", \"Topic4\", \"Topic4\", \"Topic4\", \"Topic4\", \"Topic4\", \"Topic4\", \"Topic4\", \"Topic4\", \"Topic4\", \"Topic4\", \"Topic4\", \"Topic4\", \"Topic4\", \"Topic4\", \"Topic4\", \"Topic4\", \"Topic4\", \"Topic4\", \"Topic4\", \"Topic4\", \"Topic4\", \"Topic4\", \"Topic4\", \"Topic4\", \"Topic5\", \"Topic5\", \"Topic5\", \"Topic5\", \"Topic5\", \"Topic5\", \"Topic5\", \"Topic5\", \"Topic5\", \"Topic5\", \"Topic5\", \"Topic5\", \"Topic5\", \"Topic5\", \"Topic5\", \"Topic5\", \"Topic5\", \"Topic5\", \"Topic5\", \"Topic5\", \"Topic5\", \"Topic5\", \"Topic5\", \"Topic5\", \"Topic5\", \"Topic5\", \"Topic5\", \"Topic5\", \"Topic5\", \"Topic5\", \"Topic5\", \"Topic5\", \"Topic5\", \"Topic5\", \"Topic5\", \"Topic5\", \"Topic5\", \"Topic5\", \"Topic5\", \"Topic5\", \"Topic5\", \"Topic5\", \"Topic5\", \"Topic5\", \"Topic5\", \"Topic5\", \"Topic5\", \"Topic5\", \"Topic5\", \"Topic5\", \"Topic5\", \"Topic5\", \"Topic5\", \"Topic6\", \"Topic6\", \"Topic6\", \"Topic6\", \"Topic6\", \"Topic6\", \"Topic6\", \"Topic6\", \"Topic6\", \"Topic6\", \"Topic6\", \"Topic6\", \"Topic6\", \"Topic6\", \"Topic6\", \"Topic6\", \"Topic6\", \"Topic6\", \"Topic6\", \"Topic6\", \"Topic6\", \"Topic6\", \"Topic6\", \"Topic6\", \"Topic6\", \"Topic6\", \"Topic6\", \"Topic6\", \"Topic6\", \"Topic6\", \"Topic6\", \"Topic6\", \"Topic6\", \"Topic6\", \"Topic6\", \"Topic6\", \"Topic6\", \"Topic6\", \"Topic6\", \"Topic6\", \"Topic6\", \"Topic6\", \"Topic6\", \"Topic6\", \"Topic6\", \"Topic6\", \"Topic6\", \"Topic6\", \"Topic6\", \"Topic6\", \"Topic6\", \"Topic6\", \"Topic6\", \"Topic6\", \"Topic6\", \"Topic6\", \"Topic6\", \"Topic6\", \"Topic6\", \"Topic6\", \"Topic6\", \"Topic6\", \"Topic6\", \"Topic7\", \"Topic7\", \"Topic7\", \"Topic7\", \"Topic7\", \"Topic7\", \"Topic7\", \"Topic7\", \"Topic7\", \"Topic7\", \"Topic7\", \"Topic7\", \"Topic7\", \"Topic7\", \"Topic7\", \"Topic7\", \"Topic7\", \"Topic7\", \"Topic7\", \"Topic7\", \"Topic7\", \"Topic7\", \"Topic7\", \"Topic7\", \"Topic7\", \"Topic7\", \"Topic7\", \"Topic7\", \"Topic7\", \"Topic7\", \"Topic7\", \"Topic7\", \"Topic7\", \"Topic7\", \"Topic7\", \"Topic7\", \"Topic7\", \"Topic7\", \"Topic7\", \"Topic7\", \"Topic7\", \"Topic7\", \"Topic7\", \"Topic7\", \"Topic7\", \"Topic7\", \"Topic7\", \"Topic7\", \"Topic7\", \"Topic7\", \"Topic7\", \"Topic7\", \"Topic7\", \"Topic7\", \"Topic7\", \"Topic7\", \"Topic7\", \"Topic7\", \"Topic7\"], \"Freq\": [4103.0, 2530.0, 2134.0, 2829.0, 2842.0, 9415.0, 2295.0, 1911.0, 1525.0, 6426.0, 1665.0, 1457.0, 1829.0, 2601.0, 938.0, 1528.0, 1545.0, 1416.0, 1093.0, 2846.0, 3496.0, 1039.0, 1235.0, 1232.0, 1079.0, 1211.0, 850.0, 836.0, 1575.0, 1553.0, 1828.5548095703125, 1416.1387939453125, 877.7171020507812, 694.5170288085938, 518.932373046875, 508.1324157714844, 464.8345947265625, 450.6807861328125, 356.7781677246094, 329.6254577636719, 320.43109130859375, 293.8442687988281, 280.5890197753906, 277.0747375488281, 248.11708068847656, 246.05328369140625, 227.5556640625, 204.71328735351562, 195.45819091796875, 195.55557250976562, 174.09051513671875, 170.80393981933594, 166.7539520263672, 158.7480010986328, 145.908447265625, 142.36900329589844, 141.3956298828125, 145.626953125, 141.63943481445312, 138.78306579589844, 1188.2227783203125, 1006.0931396484375, 1159.5711669921875, 494.9130859375, 361.6072998046875, 404.10723876953125, 247.49725341796875, 304.102783203125, 577.63720703125, 1413.4913330078125, 375.4869689941406, 329.6356201171875, 850.936767578125, 974.4928588867188, 502.01800537109375, 431.3175964355469, 2067.03955078125, 685.933837890625, 1590.368408203125, 1639.089111328125, 664.3167724609375, 1371.307373046875, 1213.08740234375, 1089.529052734375, 728.2353515625, 598.08984375, 1117.9986572265625, 1124.705322265625, 994.8846435546875, 1036.2099609375, 1111.7542724609375, 707.8016967773438, 776.658203125, 680.4917602539062, 725.1735229492188, 834.8524780273438, 674.5559692382812, 785.9968872070312, 680.1217041015625, 2841.802490234375, 1910.9444580078125, 1545.0406494140625, 1234.300048828125, 1231.3414306640625, 1078.7806396484375, 972.6648559570312, 825.792236328125, 709.6002197265625, 600.509521484375, 586.2306518554688, 581.7809448242188, 551.453369140625, 413.42034912109375, 323.33251953125, 308.77215576171875, 298.891845703125, 297.1690673828125, 285.971923828125, 276.8321838378906, 271.6751708984375, 269.5014343261719, 251.1165008544922, 243.25982666015625, 243.6502227783203, 231.8679656982422, 220.29782104492188, 204.97654724121094, 204.15158081054688, 198.7743377685547, 846.9956665039062, 452.88824462890625, 695.2518310546875, 729.274169921875, 1052.3568115234375, 736.77783203125, 951.8423461914062, 380.73779296875, 1695.8165283203125, 4721.74853515625, 3225.131103515625, 1254.175048828125, 518.7974243164062, 441.53472900390625, 591.0516357421875, 2548.49853515625, 1611.3909912109375, 651.5382080078125, 1127.34765625, 1463.9501953125, 1408.91162109375, 1277.431396484375, 1259.50244140625, 1045.137451171875, 796.9563598632812, 1086.7208251953125, 969.7247314453125, 966.260986328125, 837.3919677734375, 785.3450927734375, 1528.0472412109375, 596.5062255859375, 510.24481201171875, 328.0801086425781, 298.6035461425781, 291.3379821777344, 270.26519775390625, 249.93556213378906, 232.0225372314453, 219.71107482910156, 199.93490600585938, 198.52516174316406, 194.5428009033203, 151.10496520996094, 146.3306884765625, 145.68479919433594, 137.74375915527344, 136.685546875, 134.98374938964844, 123.093994140625, 118.68424987792969, 117.25489044189453, 116.75147247314453, 116.40234375, 116.26749420166016, 114.89053344726562, 112.73102569580078, 109.28717803955078, 109.11988067626953, 108.23222351074219, 1000.4126586914062, 336.2137756347656, 674.6603393554688, 568.4369506835938, 637.1077270507812, 954.2683715820312, 588.9526977539062, 1293.45556640625, 232.84280395507812, 1947.3582763671875, 547.8128051757812, 585.813232421875, 413.2779541015625, 1460.088134765625, 1036.0850830078125, 939.33447265625, 1350.529052734375, 636.570068359375, 1305.1595458984375, 599.5366821289062, 398.04461669921875, 1222.0447998046875, 647.070556640625, 1000.7658081054688, 1072.41064453125, 854.05419921875, 611.844482421875, 627.5099487304688, 630.0958251953125, 915.8599853515625, 716.6129150390625, 659.4840087890625, 687.2464599609375, 615.119873046875, 1664.6749267578125, 735.133056640625, 566.4589233398438, 503.9821472167969, 499.89794921875, 465.9176940917969, 399.7589416503906, 378.37451171875, 337.6284484863281, 334.0591125488281, 326.0153503417969, 319.9173583984375, 287.0355529785156, 245.27340698242188, 238.12062072753906, 232.34579467773438, 211.40370178222656, 204.29539489746094, 192.47938537597656, 162.9703369140625, 149.1577606201172, 146.8743896484375, 136.0911102294922, 133.9210968017578, 133.08306884765625, 128.10537719726562, 117.53688049316406, 116.50334930419922, 106.38704681396484, 104.24327087402344, 878.7323608398438, 2162.124267578125, 949.84521484375, 537.7960205078125, 512.9275512695312, 308.4076843261719, 287.1914978027344, 613.8081665039062, 1586.4422607421875, 936.2637939453125, 829.8893432617188, 364.354248046875, 683.337890625, 1410.5574951171875, 418.60260009765625, 715.2003173828125, 2106.458251953125, 883.9611206054688, 482.25726318359375, 634.937744140625, 500.4957580566406, 1302.80859375, 1264.6990966796875, 973.2823486328125, 1272.108642578125, 1139.49951171875, 1086.50390625, 729.6264038085938, 1105.7320556640625, 1134.6187744140625, 989.673828125, 821.8488159179688, 743.697509765625, 755.8555297851562, 738.8551025390625, 598.5693359375, 2828.870849609375, 1525.146240234375, 1457.169677734375, 1093.0172119140625, 1038.5048828125, 849.89453125, 835.5098876953125, 787.7808227539062, 710.776611328125, 499.77703857421875, 391.5762939453125, 356.0124816894531, 346.5870056152344, 334.3890686035156, 323.97430419921875, 282.7423400878906, 267.8404846191406, 266.6304626464844, 258.7052001953125, 258.1756591796875, 258.1041259765625, 255.61264038085938, 250.058837890625, 241.17120361328125, 209.00164794921875, 202.86009216308594, 194.45606994628906, 188.95632934570312, 184.5257110595703, 181.07095336914062, 3847.583984375, 895.7977294921875, 336.48077392578125, 464.9502258300781, 330.4775695800781, 454.7232360839844, 1625.060302734375, 377.41339111328125, 931.3947143554688, 342.1678771972656, 474.4842529296875, 805.3411865234375, 569.6838989257812, 637.1649780273438, 605.3408203125, 586.31591796875, 562.7227783203125, 476.89739990234375, 437.02294921875, 387.6796875, 383.8456726074219, 382.7563781738281, 384.2989196777344, 631.6315307617188, 591.298828125, 483.2798156738281, 408.6109924316406, 333.18133544921875, 278.9425964355469, 272.2235107421875, 270.2367858886719, 254.85276794433594, 220.0089569091797, 193.00772094726562, 188.66639709472656, 172.8527069091797, 170.36505126953125, 165.48915100097656, 164.8412322998047, 162.9859619140625, 157.3100128173828, 153.57530212402344, 151.1251678466797, 150.10174560546875, 149.55918884277344, 137.84593200683594, 135.67816162109375, 126.76553344726562, 125.7412338256836, 123.88768768310547, 117.52131652832031, 116.42718505859375, 116.43692779541016, 336.448486328125, 380.9599609375, 661.1658935546875, 326.18096923828125, 262.8091125488281, 366.1784973144531, 177.36178588867188, 461.1163024902344, 959.9437255859375, 307.0177307128906, 191.14149475097656, 783.4412231445312, 1257.0069580078125, 822.4208374023438, 554.0997314453125, 871.4617919921875, 401.8280334472656, 272.75030517578125, 823.1633911132812, 368.1856994628906, 568.347900390625, 398.4665222167969, 414.8469543457031, 614.8756103515625, 530.6994018554688, 475.9631652832031, 501.11865234375, 371.3428955078125, 413.3254699707031, 474.2319641113281, 385.8776550292969, 376.56378173828125, 376.64324951171875, 2530.018310546875, 2133.74755859375, 937.330078125, 525.0947875976562, 485.0745544433594, 325.3464050292969, 250.02549743652344, 160.85324096679688, 161.1874237060547, 152.9850311279297, 143.05133056640625, 113.42279052734375, 104.02539825439453, 96.9468002319336, 93.55306243896484, 77.45988464355469, 73.0107421875, 69.60978698730469, 69.05329895019531, 68.48037719726562, 66.82001495361328, 61.89433288574219, 61.02920913696289, 61.83475112915039, 55.84990310668945, 54.91867446899414, 55.249595642089844, 55.06394577026367, 50.81745910644531, 48.240055084228516, 530.3253173828125, 277.794921875, 315.1640930175781, 101.88308715820312, 214.67347717285156, 278.5730895996094, 363.0005187988281, 442.502685546875, 210.54336547851562, 398.4141845703125, 268.3838195800781, 414.9092102050781, 200.8968048095703, 276.6242980957031, 409.8103942871094, 226.95860290527344, 243.404541015625, 156.09080505371094, 276.43194580078125, 176.6351776123047, 285.3896484375, 368.8383483886719, 322.2356872558594, 240.50112915039062, 314.0505065917969, 214.7423553466797, 252.4851531982422, 228.9248046875, 224.0950927734375], \"Term\": [\"light\", \"blade\", \"wiper\", \"battery\", \"towel\", \"car\", \"tire\", \"wax\", \"bulb\", \"product\", \"hose\", \"power\", \"oil\", \"water\", \"windshield\", \"leather\", \"wash\", \"filter\", \"device\", \"fit\", \"easy\", \"led\", \"spray\", \"paint\", \"microfiber\", \"engine\", \"bright\", \"charge\", \"side\", \"plastic\", \"oil\", \"filter\", \"code\", \"app\", \"gas\", \"mile\", \"fuel\", \"fluid\", \"sensor\", \"zubie\", \"shipping\", \"scanner\", \"wrench\", \"dealer\", \"mileage\", \"mpg\", \"mechanic\", \"online\", \"software\", \"sent\", \"transmission\", \"gasket\", \"minor\", \"coolant\", \"reader\", \"research\", \"spark\", \"pink\", \"pan\", \"slow\", \"engine\", \"change\", \"amazon\", \"port\", \"service\", \"honda\", \"cup\", \"local\", \"money\", \"price\", \"cheaper\", \"shop\", \"buy\", \"vehicle\", \"cost\", \"check\", \"car\", \"part\", \"product\", \"one\", \"problem\", \"work\", \"great\", \"time\", \"bought\", \"find\", \"get\", \"good\", \"used\", \"would\", \"use\", \"year\", \"much\", \"quality\", \"better\", \"well\", \"new\", \"like\", \"could\", \"towel\", \"wax\", \"wash\", \"spray\", \"paint\", \"microfiber\", \"shine\", \"cloth\", \"drying\", \"washing\", \"clay\", \"polish\", \"griot\", \"meguiar\", \"polishing\", \"sanding\", \"bucket\", \"detailing\", \"soap\", \"chamois\", \"mitt\", \"washed\", \"detailer\", \"sponge\", \"rinse\", \"applicator\", \"sealant\", \"polisher\", \"buff\", \"lint\", \"pad\", \"coat\", \"apply\", \"finish\", \"dry\", \"bottle\", \"cleaning\", \"leaf\", \"water\", \"car\", \"product\", \"clean\", \"wipe\", \"scratch\", \"result\", \"use\", \"used\", \"cleaner\", \"using\", \"great\", \"good\", \"like\", \"work\", \"time\", \"job\", \"one\", \"get\", \"well\", \"much\", \"really\", \"leather\", \"brush\", \"interior\", \"grease\", \"trim\", \"conditioner\", \"carpet\", \"scent\", \"torque\", \"vinyl\", \"odor\", \"adhesive\", \"grit\", \"scraper\", \"shoe\", \"crack\", \"dog\", \"gun\", \"specific\", \"stove\", \"shower\", \"bristle\", \"spraying\", \"sticky\", \"motion\", \"worn\", \"dub\", \"stiff\", \"nova\", \"dressing\", \"wheel\", \"edge\", \"seat\", \"door\", \"smell\", \"plastic\", \"cover\", \"look\", \"mirror\", \"like\", \"area\", \"surface\", \"tape\", \"would\", \"really\", \"little\", \"get\", \"bit\", \"well\", \"around\", \"rubber\", \"product\", \"clean\", \"good\", \"work\", \"time\", \"back\", \"thing\", \"even\", \"one\", \"used\", \"much\", \"car\", \"use\", \"hose\", \"jack\", \"hole\", \"screw\", \"lock\", \"chemical\", \"bolt\", \"hitch\", \"plate\", \"compressor\", \"sewer\", \"block\", \"fitting\", \"nut\", \"steel\", \"pin\", \"psi\", \"thread\", \"tab\", \"smart\", \"insert\", \"release\", \"latch\", \"rugged\", \"bend\", \"locking\", \"horn\", \"tighten\", \"adjustable\", \"snug\", \"gauge\", \"tire\", \"pressure\", \"valve\", \"cap\", \"nozzle\", \"stand\", \"handle\", \"fit\", \"install\", \"tool\", \"solid\", \"air\", \"easy\", \"metal\", \"end\", \"one\", \"made\", \"tank\", \"hold\", \"jeep\", \"well\", \"good\", \"make\", \"work\", \"would\", \"get\", \"quality\", \"like\", \"use\", \"great\", \"need\", \"nice\", \"look\", \"little\", \"plastic\", \"battery\", \"bulb\", \"power\", \"device\", \"led\", \"bright\", \"charge\", \"charger\", \"phone\", \"inverter\", \"charging\", \"data\", \"solar\", \"brighter\", \"fuse\", \"cigarette\", \"outlet\", \"cell\", \"plugged\", \"watt\", \"tender\", \"laptop\", \"charged\", \"output\", \"amp\", \"lighting\", \"voltage\", \"display\", \"volt\", \"hid\", \"light\", \"unit\", \"lighter\", \"cable\", \"switch\", \"white\", \"car\", \"feature\", \"one\", \"panel\", \"plug\", \"use\", \"also\", \"work\", \"like\", \"would\", \"time\", \"need\", \"get\", \"even\", \"vehicle\", \"using\", \"good\", \"mat\", \"bag\", \"bike\", \"usb\", \"strap\", \"space\", \"screen\", \"button\", \"travel\", \"link\", \"indicator\", \"camping\", \"harness\", \"vent\", \"ride\", \"compact\", \"ramp\", \"receiver\", \"camco\", \"dump\", \"helmet\", \"riding\", \"pipe\", \"mower\", \"bamboo\", \"velcro\", \"powered\", \"tablet\", \"controller\", \"cargo\", \"strip\", \"board\", \"trailer\", \"cutting\", \"storage\", \"foot\", \"remote\", \"wire\", \"keep\", \"hook\", \"extension\", \"water\", \"use\", \"easy\", \"small\", \"great\", \"item\", \"motorcycle\", \"work\", \"truck\", \"need\", \"set\", \"around\", \"well\", \"make\", \"fit\", \"would\", \"side\", \"also\", \"one\", \"come\", \"two\", \"put\", \"blade\", \"wiper\", \"windshield\", \"snow\", \"bosch\", \"ice\", \"beam\", \"icon\", \"visor\", \"report\", \"vision\", \"anco\", \"halogen\", \"whiter\", \"mild\", \"profile\", \"visibility\", \"promise\", \"sylvania\", \"prius\", \"became\", \"throttle\", \"mph\", \"disposable\", \"glare\", \"frameless\", \"early\", \"rainy\", \"transfer\", \"elsewhere\", \"rain\", \"arm\", \"driver\", \"streaking\", \"streak\", \"headlight\", \"clear\", \"side\", \"winter\", \"old\", \"window\", \"last\", \"replaced\", \"driving\", \"year\", \"glass\", \"month\", \"performance\", \"install\", \"oem\", \"better\", \"one\", \"well\", \"see\", \"car\", \"installed\", \"easy\", \"new\", \"work\"], \"Total\": [4103.0, 2530.0, 2134.0, 2829.0, 2842.0, 9415.0, 2295.0, 1911.0, 1525.0, 6426.0, 1665.0, 1457.0, 1829.0, 2601.0, 938.0, 1528.0, 1545.0, 1416.0, 1093.0, 2846.0, 3496.0, 1039.0, 1235.0, 1232.0, 1079.0, 1211.0, 850.0, 836.0, 1575.0, 1553.0, 1829.2623291015625, 1416.8455810546875, 878.4248657226562, 695.2274169921875, 519.641845703125, 508.8409118652344, 465.5421142578125, 451.3888854980469, 357.4881896972656, 330.3430480957031, 321.1396789550781, 294.5520935058594, 281.29803466796875, 277.7825927734375, 248.82493591308594, 246.76126098632812, 228.26400756835938, 205.42262268066406, 196.16641235351562, 196.2657470703125, 174.79751586914062, 171.51260375976562, 167.4710693359375, 159.45545959472656, 146.61654663085938, 143.07797241210938, 142.10287475585938, 146.3557891845703, 142.348388671875, 139.49679565429688, 1211.0460205078125, 1055.6595458984375, 1247.33642578125, 540.8817138671875, 404.72998046875, 463.7774658203125, 268.44024658203125, 345.45843505859375, 760.6195068359375, 2389.74951171875, 466.8170166015625, 419.0079345703125, 1694.704833984375, 2293.884033203125, 822.7994995117188, 645.2418823242188, 9415.40625, 1447.143798828125, 6426.09130859375, 7522.5927734375, 1504.2882080078125, 6659.7529296875, 5304.6953125, 4450.193359375, 1918.617431640625, 1264.4498291015625, 5248.87939453125, 5414.01171875, 4472.232421875, 5281.2978515625, 7472.4560546875, 2209.353759765625, 3422.38037109375, 2020.2393798828125, 2668.790771484375, 5526.4228515625, 2011.86865234375, 5857.70654296875, 2190.695068359375, 2842.532470703125, 1911.674072265625, 1545.770751953125, 1235.03076171875, 1232.072021484375, 1079.5103759765625, 973.39501953125, 826.522705078125, 710.3305053710938, 601.2398071289062, 586.960205078125, 582.5106201171875, 552.1835327148438, 414.1498718261719, 324.06231689453125, 309.5053405761719, 299.62188720703125, 297.89886474609375, 286.701904296875, 277.5626220703125, 272.4052429199219, 270.23150634765625, 251.84600830078125, 243.98992919921875, 244.38352966308594, 232.5979461669922, 221.0293731689453, 205.7064666748047, 204.8813018798828, 199.50440979003906, 891.9102172851562, 466.8150939941406, 770.3672485351562, 833.2481079101562, 1275.201904296875, 883.9954223632812, 1196.175048828125, 413.7732238769531, 2601.6728515625, 9415.40625, 6426.09130859375, 2033.177490234375, 638.2860717773438, 512.4898071289062, 780.855712890625, 7472.4560546875, 4472.232421875, 1030.587158203125, 2852.787353515625, 5304.6953125, 5414.01171875, 5857.70654296875, 6659.7529296875, 4450.193359375, 1869.9962158203125, 7522.5927734375, 5248.87939453125, 5526.4228515625, 3422.38037109375, 3173.866943359375, 1528.7821044921875, 597.2410888671875, 510.98175048828125, 328.8156433105469, 299.3397216796875, 292.07281494140625, 271.00091552734375, 250.67173767089844, 232.7662353515625, 220.44625854492188, 200.67141723632812, 199.2626495361328, 195.279296875, 151.8417510986328, 147.06619262695312, 146.4205780029297, 138.48031616210938, 137.42156982421875, 135.7346954345703, 123.8326187133789, 119.42362213134766, 117.9895248413086, 117.48835754394531, 117.13843536376953, 117.00686645507812, 115.62743377685547, 113.47821807861328, 110.02403259277344, 109.85752868652344, 108.96784210205078, 1117.2060546875, 361.3144226074219, 768.6591796875, 717.238525390625, 866.3994140625, 1553.4365234375, 1005.4111328125, 2928.001220703125, 297.5027770996094, 5857.70654296875, 1051.301513671875, 1171.775634765625, 708.3374633789062, 5281.2978515625, 3173.866943359375, 2720.886474609375, 5248.87939453125, 1580.724609375, 5526.4228515625, 1579.1121826171875, 742.0853271484375, 6426.09130859375, 2033.177490234375, 5414.01171875, 6659.7529296875, 4450.193359375, 1976.7926025390625, 2326.26708984375, 2371.3193359375, 7522.5927734375, 4472.232421875, 3422.38037109375, 9415.40625, 7472.4560546875, 1665.3858642578125, 735.8424072265625, 567.1691284179688, 504.6923828125, 500.6080627441406, 466.64013671875, 400.4688415527344, 379.08428955078125, 338.3395690917969, 334.7686767578125, 326.72509765625, 320.63067626953125, 287.7459411621094, 245.9833984375, 238.83090209960938, 233.0564727783203, 212.1130828857422, 205.0071563720703, 193.19302368164062, 163.6971893310547, 149.8683319091797, 147.58544921875, 136.80209350585938, 134.63160705566406, 133.7932891845703, 128.8156280517578, 118.24593353271484, 117.21331787109375, 107.1008529663086, 104.95291900634766, 889.4563598632812, 2295.315673828125, 1015.52978515625, 604.0777587890625, 580.0494384765625, 347.9087219238281, 337.4798278808594, 866.6937866210938, 2846.796630859375, 1506.8486328125, 1320.76953125, 467.2215270996094, 1133.861083984375, 3496.034423828125, 590.8543090820312, 1360.477294921875, 7522.5927734375, 1996.852294921875, 743.7109375, 1172.061279296875, 813.2762451171875, 5526.4228515625, 5414.01171875, 3579.571533203125, 6659.7529296875, 5281.2978515625, 5248.87939453125, 2020.2393798828125, 5857.70654296875, 7472.4560546875, 5304.6953125, 3389.90966796875, 2393.859375, 2928.001220703125, 2720.886474609375, 1553.4365234375, 2829.6142578125, 1525.8905029296875, 1457.914306640625, 1093.7623291015625, 1039.2489013671875, 850.63916015625, 836.2535400390625, 788.5239868164062, 711.5217895507812, 500.5202941894531, 392.319580078125, 356.7578125, 347.3315734863281, 335.13360595703125, 324.7181091308594, 283.4857177734375, 268.5846252441406, 267.3746337890625, 259.44927978515625, 258.9190368652344, 258.8472595214844, 256.3569641113281, 250.80233764648438, 241.91506958007812, 209.74513244628906, 203.60455322265625, 195.19918823242188, 189.70059204101562, 185.26904296875, 181.81492614746094, 4103.4873046875, 1131.6483154296875, 369.27276611328125, 629.8988647460938, 397.3828430175781, 755.0484619140625, 9415.40625, 599.0484619140625, 7522.5927734375, 553.001220703125, 1354.231689453125, 7472.4560546875, 3180.687744140625, 6659.7529296875, 5857.70654296875, 5281.2978515625, 4450.193359375, 3389.90966796875, 5248.87939453125, 2371.3193359375, 2293.884033203125, 2852.787353515625, 5414.01171875, 632.359619140625, 592.0255737304688, 484.0066833496094, 409.34088134765625, 333.9073181152344, 279.669921875, 272.9521484375, 270.96649169921875, 255.5789337158203, 220.74754333496094, 193.7423858642578, 189.3931121826172, 173.579833984375, 171.09117126464844, 166.21575927734375, 165.56930541992188, 163.71255493164062, 158.0364990234375, 154.30198669433594, 151.85287475585938, 150.82801818847656, 150.28575134277344, 138.57345581054688, 136.40423583984375, 127.49638366699219, 126.46746826171875, 124.61610412597656, 118.2503662109375, 117.15293884277344, 117.16304779052734, 358.8824157714844, 416.99066162109375, 843.7094116210938, 382.6442565917969, 299.52398681640625, 457.251220703125, 194.00318908691406, 689.8626098632812, 2217.12060546875, 453.2601623535156, 227.2738800048828, 2601.6728515625, 7472.4560546875, 3496.034423828125, 1721.99462890625, 5304.6953125, 1088.587158203125, 501.8232116699219, 6659.7529296875, 1121.72119140625, 3389.90966796875, 1374.6763916015625, 1579.1121826171875, 5526.4228515625, 3579.571533203125, 2846.796630859375, 5281.2978515625, 1575.43701171875, 3180.687744140625, 7522.5927734375, 2221.287841796875, 2016.991943359375, 2038.805908203125, 2530.7490234375, 2134.47802734375, 938.0614013671875, 525.82666015625, 485.8061218261719, 326.078369140625, 250.75686645507812, 161.5841064453125, 161.92098999023438, 153.72337341308594, 143.7827911376953, 114.1530532836914, 104.75782775878906, 97.67890167236328, 94.2909927368164, 78.19371032714844, 73.74421691894531, 70.34733581542969, 69.7862319946289, 69.21489715576172, 67.55626678466797, 62.626670837402344, 61.76417541503906, 62.58652114868164, 56.584068298339844, 55.649112701416016, 55.984718322753906, 55.797088623046875, 51.55342102050781, 48.975746154785156, 604.38330078125, 323.147216796875, 611.398681640625, 132.57235717773438, 392.7317810058594, 612.1072998046875, 1064.5908203125, 1575.43701171875, 498.04241943359375, 1489.382080078125, 765.5233154296875, 1784.6170654296875, 484.81536865234375, 972.437255859375, 2209.353759765625, 701.90625, 862.2799682617188, 331.45440673828125, 1506.8486328125, 493.18975830078125, 2668.790771484375, 7522.5927734375, 5526.4228515625, 1921.3170166015625, 9415.40625, 1093.3748779296875, 3496.034423828125, 2011.86865234375, 6659.7529296875], \"loglift\": [30.0, 29.0, 28.0, 27.0, 26.0, 25.0, 24.0, 23.0, 22.0, 21.0, 20.0, 19.0, 18.0, 17.0, 16.0, 15.0, 14.0, 13.0, 12.0, 11.0, 10.0, 9.0, 8.0, 7.0, 6.0, 5.0, 4.0, 3.0, 2.0, 1.0, 1.6263999938964844, 1.6262999773025513, 1.6260000467300415, 1.6258000135421753, 1.625499963760376, 1.6253999471664429, 1.6253000497817993, 1.6252000331878662, 1.6247999668121338, 1.6246000528335571, 1.6246000528335571, 1.624400019645691, 1.6243000030517578, 1.6243000030517578, 1.6239999532699585, 1.623900055885315, 1.6237000226974487, 1.6233999729156494, 1.6232000589370728, 1.6232000589370728, 1.6227999925613403, 1.6226999759674072, 1.622499942779541, 1.6224000453948975, 1.621999979019165, 1.621899962425232, 1.6217999458312988, 1.6217999458312988, 1.6217999458312988, 1.6217000484466553, 1.607800006866455, 1.5786999464035034, 1.5539000034332275, 1.5379999876022339, 1.51419997215271, 1.4890999794006348, 1.5456000566482544, 1.4993000030517578, 1.3516000509262085, 1.101699948310852, 1.40910005569458, 1.3868999481201172, 0.9379000067710876, 0.7706999778747559, 1.132699966430664, 1.2239999771118164, 0.11060000211000443, 0.880299985408783, 0.2303999960422516, 0.10300000011920929, 0.809499979019165, 0.04650000110268593, 0.15139999985694885, 0.21960000693798065, 0.6581000089645386, 0.8781999945640564, 0.08030000329017639, 0.05530000105500221, 0.12380000203847885, -0.0017999999690800905, -0.2784999907016754, 0.4884999990463257, 0.1437000036239624, 0.5386999845504761, 0.3237999975681305, -0.2632000148296356, 0.5340999960899353, -0.3817000091075897, 0.4571000039577484, 1.7142000198364258, 1.7141000032424927, 1.7139999866485596, 1.7137999534606934, 1.7137999534606934, 1.7137999534606934, 1.7137000560760498, 1.7136000394821167, 1.7134000062942505, 1.7131999731063843, 1.7131999731063843, 1.7131999731063843, 1.7130999565124512, 1.7127000093460083, 1.7122000455856323, 1.7121000289916992, 1.7120000123977661, 1.7120000123977661, 1.711899995803833, 1.7117999792099, 1.7117999792099, 1.7116999626159668, 1.7115000486373901, 1.711400032043457, 1.711400032043457, 1.711300015449524, 1.7110999822616577, 1.7108999490737915, 1.7108999490737915, 1.710800051689148, 1.6627999544143677, 1.6842000484466553, 1.611799955368042, 1.5812000036239624, 1.5224000215530396, 1.5322999954223633, 1.4859999418258667, 1.6311999559402466, 1.2863999605178833, 1.0242999792099, 1.024999976158142, 1.2312999963760376, 1.507200002670288, 1.5654000043869019, 1.4359999895095825, 0.638700008392334, 0.6935999989509583, 1.2559000253677368, 0.7860000133514404, 0.4269999861717224, 0.3682999908924103, 0.1914999932050705, 0.04910000041127205, 0.2655999958515167, 0.8615000247955322, -0.22030000388622284, 0.025699999183416367, -0.029400000348687172, 0.30660000443458557, 0.31790000200271606, 1.7475999593734741, 1.7467999458312988, 1.7466000318527222, 1.7458000183105469, 1.7455999851226807, 1.7454999685287476, 1.745300054550171, 1.7451000213623047, 1.7447999715805054, 1.7446999549865723, 1.7444000244140625, 1.7443000078201294, 1.7443000078201294, 1.7431999444961548, 1.7430000305175781, 1.7430000305175781, 1.7426999807357788, 1.7426999807357788, 1.7424999475479126, 1.7421000003814697, 1.7417999505996704, 1.7417999505996704, 1.7417000532150269, 1.7417000532150269, 1.7417000532150269, 1.7416000366210938, 1.7414000034332275, 1.7412999868392944, 1.7412999868392944, 1.7412999868392944, 1.6375999450683594, 1.6759999990463257, 1.6175999641418457, 1.5154999494552612, 1.440600037574768, 1.2608000040054321, 1.2131999731063843, 0.9309999942779541, 1.503000020980835, 0.6467999815940857, 1.0961999893188477, 1.054800033569336, 1.2092000246047974, 0.46239998936653137, 0.6284999847412109, 0.684499979019165, 0.390500009059906, 0.8385000228881836, 0.30480000376701355, 0.7796000242233276, 1.125100016593933, 0.08820000290870667, 0.6031000018119812, 0.05979999899864197, -0.07810000330209732, 0.09730000048875809, 0.5752999782562256, 0.43779999017715454, 0.4226999878883362, -0.3578000068664551, -0.08309999853372574, 0.10140000283718109, -0.8694000244140625, -0.7491000294685364, 1.819000005722046, 1.8184000253677368, 1.8181999921798706, 1.8179999589920044, 1.8179999589920044, 1.8178999423980713, 1.8176000118255615, 1.8174999952316284, 1.8172999620437622, 1.8172999620437622, 1.817199945449829, 1.817199945449829, 1.8169000148773193, 1.816499948501587, 1.8164000511169434, 1.8163000345230103, 1.816100001335144, 1.8158999681472778, 1.8157000541687012, 1.815000057220459, 1.8147000074386597, 1.8145999908447266, 1.8142000436782837, 1.8141000270843506, 1.8141000270843506, 1.8138999938964844, 1.8134000301361084, 1.8133000135421753, 1.8127000331878662, 1.812600016593933, 1.8072999715805054, 1.759600043296814, 1.752500057220459, 1.7031999826431274, 1.6964000463485718, 1.6988999843597412, 1.6579999923706055, 1.4744000434875488, 1.2346999645233154, 1.343500018119812, 1.354699969291687, 1.5707000494003296, 1.312999963760376, 0.9118000268936157, 1.4747999906539917, 1.1763999462127686, 0.546500027179718, 1.0045000314712524, 1.386199951171875, 1.2064000368118286, 1.333899974822998, 0.37439998984336853, 0.365200012922287, 0.5170999765396118, 0.164000004529953, 0.2858000099658966, 0.2443999946117401, 0.8009999990463257, 0.15219999849796295, -0.06549999862909317, 0.1404000073671341, 0.4023999869823456, 0.6503999829292297, 0.4652000069618225, 0.5157999992370605, 0.8657000064849854, 2.0671000480651855, 2.066800117492676, 2.066800117492676, 2.066699981689453, 2.0666000843048096, 2.066499948501587, 2.0664000511169434, 2.0664000511169434, 2.0662999153137207, 2.0657999515533447, 2.0653998851776123, 2.065200090408325, 2.065200090408325, 2.0650999546051025, 2.065000057220459, 2.06469988822937, 2.0645999908447266, 2.064500093460083, 2.064500093460083, 2.064500093460083, 2.064500093460083, 2.0643999576568604, 2.0643999576568604, 2.064300060272217, 2.063800096511841, 2.063699960708618, 2.063499927520752, 2.0634000301361084, 2.0632998943328857, 2.063199996948242, 2.0028998851776123, 1.8336000442504883, 1.9743000268936157, 1.763700008392334, 1.8830000162124634, 1.5601999759674072, 0.31049999594688416, 1.605299949645996, -0.02160000056028366, 1.5872999429702759, 1.0185999870300293, -0.16040000319480896, 0.3476000130176544, -0.27950000762939453, -0.20239999890327454, -0.1307000070810318, -0.0006000000284984708, 0.10610000044107437, -0.41850000619888306, 0.2563000023365021, 0.27959999442100525, 0.05869999900460243, -0.578000009059906, 2.273200035095215, 2.273200035095215, 2.272900104522705, 2.272599935531616, 2.272200107574463, 2.2718000411987305, 2.271699905395508, 2.271699905395508, 2.2716000080108643, 2.2709999084472656, 2.2706000804901123, 2.2706000804901123, 2.27020001411438, 2.2701001167297363, 2.2699999809265137, 2.2699999809265137, 2.2699999809265137, 2.2697999477386475, 2.269700050354004, 2.2695999145507812, 2.2695999145507812, 2.2695999145507812, 2.2690999507904053, 2.2690999507904053, 2.2685999870300293, 2.2685999870300293, 2.2685000896453857, 2.268199920654297, 2.268199920654297, 2.268199920654297, 2.2098000049591064, 2.184000015258789, 2.030600070953369, 2.1147000789642334, 2.1435999870300293, 2.052299976348877, 2.1847000122070312, 1.8716000318527222, 1.4372999668121338, 1.8847999572753906, 2.101300001144409, 1.0742000341415405, 0.4918999969959259, 0.8273000121116638, 1.1404999494552612, 0.4681999981403351, 1.2777999639511108, 1.6647000312805176, 0.18369999527931213, 1.1604000329971313, 0.4885999858379364, 1.0360000133514404, 0.9376999735832214, 0.07850000262260437, 0.36559998989105225, 0.48579999804496765, -0.08070000261068344, 0.829200029373169, 0.2337999939918518, -0.4896000027656555, 0.5241000056266785, 0.5960999727249146, 0.5856000185012817, 2.851099967956543, 2.851099967956543, 2.850600004196167, 2.8499999046325684, 2.849900007247925, 2.8492000102996826, 2.8485000133514404, 2.84689998626709, 2.84689998626709, 2.84660005569458, 2.846299886703491, 2.8450000286102295, 2.844399929046631, 2.843899965286255, 2.843600034713745, 2.8420000076293945, 2.841399908065796, 2.84089994430542, 2.84089994430542, 2.8408000469207764, 2.8405001163482666, 2.8396999835968018, 2.8394999504089355, 2.8392999172210693, 2.838399887084961, 2.838200092315674, 2.838200092315674, 2.838200092315674, 2.8369998931884766, 2.8362998962402344, 2.7207000255584717, 2.700200080871582, 2.188800096511841, 2.588099956512451, 2.2474000453948975, 2.064199924468994, 1.7755000591278076, 1.5815999507904053, 1.990399956703186, 1.5327999591827393, 1.8033000230789185, 1.3925000429153442, 1.9704999923706055, 1.5943000316619873, 1.166700005531311, 1.7223999500274658, 1.5865999460220337, 2.098400115966797, 1.1555999517440796, 1.8245999813079834, 0.6158999800682068, -0.1639000028371811, 0.009399999864399433, 0.7734000086784363, -0.5490999817848206, 1.2237999439239502, 0.22339999675750732, 0.6779999732971191, -0.5403000116348267], \"logprob\": [30.0, 29.0, 28.0, 27.0, 26.0, 25.0, 24.0, 23.0, 22.0, 21.0, 20.0, 19.0, 18.0, 17.0, 16.0, 15.0, 14.0, 13.0, 12.0, 11.0, 10.0, 9.0, 8.0, 7.0, 6.0, 5.0, 4.0, 3.0, 2.0, 1.0, -4.488900184631348, -4.7444000244140625, -5.222799777984619, -5.456900119781494, -5.7484002113342285, -5.769400119781494, -5.858500003814697, -5.889400005340576, -6.123000144958496, -6.202199935913086, -6.230500221252441, -6.3171000480651855, -6.3632001876831055, -6.375899791717529, -6.486199855804443, -6.49459981918335, -6.572700023651123, -6.678500175476074, -6.724800109863281, -6.724299907684326, -6.84060001373291, -6.859600067138672, -6.883600234985352, -6.932799816131592, -7.017199993133545, -7.0416998863220215, -7.048600196838379, -7.019100189208984, -7.046899795532227, -7.067200183868408, -4.919899940490723, -5.086299896240234, -4.944300174713135, -5.79580020904541, -6.109600067138672, -5.998499870300293, -6.488699913024902, -6.282800197601318, -5.641200065612793, -4.746300220489502, -6.071899890899658, -6.202199935913086, -5.253799915313721, -5.118199825286865, -5.781499862670898, -5.933300018310547, -4.366300106048584, -5.469399929046631, -4.628399848937988, -4.598199844360352, -5.501399993896484, -4.776599884033203, -4.899199962615967, -5.0065999031066895, -5.4095001220703125, -5.606400012969971, -4.980800151824951, -4.974899768829346, -5.097499847412109, -5.05679988861084, -4.986400127410889, -5.438000202178955, -5.345099925994873, -5.47730016708374, -5.413700103759766, -5.272900104522705, -5.486100196838379, -5.333199977874756, -5.47790002822876, -3.9602999687194824, -4.3572001457214355, -4.569699764251709, -4.794300079345703, -4.7967000007629395, -4.928899765014648, -5.03249979019165, -5.196199893951416, -5.347799777984619, -5.514699935913086, -5.53879976272583, -5.54640007019043, -5.599999904632568, -5.8881001472473145, -6.133800029754639, -6.179900169372559, -6.212399959564209, -6.218200206756592, -6.2565999031066895, -6.289100170135498, -6.3078999519348145, -6.315899848937988, -6.386600017547607, -6.418399810791016, -6.416800022125244, -6.466400146484375, -6.517499923706055, -6.589600086212158, -6.593699932098389, -6.620299816131592, -5.17080020904541, -5.796899795532227, -5.368199825286865, -5.320499897003174, -4.953700065612793, -5.310200214385986, -5.054100036621094, -5.970399856567383, -4.476600170135498, -3.4526000022888184, -3.8338000774383545, -4.778299808502197, -5.660999774932861, -5.822299957275391, -5.530600070953369, -4.069300174713135, -4.527699947357178, -5.433199882507324, -4.884900093078613, -4.623600006103516, -4.661900043487549, -4.759900093078613, -4.77400016784668, -4.960599899291992, -5.2316999435424805, -4.921599864959717, -5.0355000495910645, -5.039100170135498, -5.182199954986572, -5.246399879455566, -4.5472002029418945, -5.487800121307373, -5.644000053405762, -6.085700035095215, -6.179800033569336, -6.204400062561035, -6.2795000076293945, -6.357699871063232, -6.43209981918335, -6.486599922180176, -6.580900192260742, -6.5879998207092285, -6.60830020904541, -6.860899925231934, -6.893099784851074, -6.897500038146973, -6.953499794006348, -6.96120023727417, -6.973800182342529, -7.065999984741211, -7.102499961853027, -7.11460018157959, -7.118899822235107, -7.1219000816345215, -7.123000144958496, -7.134900093078613, -7.153900146484375, -7.184899806976318, -7.186500072479248, -7.1946001052856445, -4.970799922943115, -6.061200141906738, -5.364699840545654, -5.535999774932861, -5.421999931335449, -5.01800012588501, -5.5005998611450195, -4.713799953460693, -6.428599834442139, -4.304699897766113, -5.572999954223633, -5.505899906158447, -5.854800224304199, -4.592700004577637, -4.935699939727783, -5.033699989318848, -4.6707000732421875, -5.422800064086914, -4.704800128936768, -5.482800006866455, -5.892399787902832, -4.770599842071533, -5.406499862670898, -4.970399856567383, -4.901299953460693, -5.128900051116943, -5.462399959564209, -5.43720006942749, -5.433000087738037, -5.059100151062012, -5.3043999671936035, -5.387499809265137, -5.346199989318848, -5.457099914550781, -4.390200138092041, -5.207499980926514, -5.468100070953369, -5.585000038146973, -5.593100070953369, -5.66349983215332, -5.816699981689453, -5.871699810028076, -5.985599994659424, -5.996200084686279, -6.020599842071533, -6.0395002365112305, -6.147900104522705, -6.305200099945068, -6.334799766540527, -6.359300136566162, -6.453800201416016, -6.48799991607666, -6.547599792480469, -6.714000225067139, -6.802499771118164, -6.817999839782715, -6.894199848175049, -6.910299777984619, -6.916600227355957, -6.954699993133545, -7.040800094604492, -7.049600124359131, -7.140500068664551, -7.160799980163574, -5.029099941253662, -4.128699779510498, -4.951300144195557, -5.520100116729736, -5.567399978637695, -6.076099872589111, -6.14739990234375, -5.387899875640869, -4.438300132751465, -4.965700149536133, -5.086299896240234, -5.90939998626709, -5.280600070953369, -4.555799961090088, -5.770599842071533, -5.235000133514404, -4.154799938201904, -5.023099899291992, -5.6290998458862305, -5.354000091552734, -5.5920000076293945, -4.635300159454346, -4.664999961853027, -4.9268999099731445, -4.65910005569458, -4.769199848175049, -4.816800117492676, -5.215000152587891, -4.799300193786621, -4.773499965667725, -4.910200119018555, -5.0960001945495605, -5.195899963378906, -5.179699897766113, -5.202499866485596, -5.413000106811523, -3.611999988555908, -4.229800224304199, -4.275400161743164, -4.562900066375732, -4.614099979400635, -4.814499855041504, -4.831600189208984, -4.890399932861328, -4.993299961090088, -5.3454999923706055, -5.589399814605713, -5.684700012207031, -5.71150016784668, -5.747300148010254, -5.7789998054504395, -5.91510009765625, -5.969200134277344, -5.973800182342529, -6.003900051116943, -6.00600004196167, -6.00629997253418, -6.015999794006348, -6.037899971008301, -6.074100017547607, -6.217299938201904, -6.247099876403809, -6.289400100708008, -6.3180999755859375, -6.341800212860107, -6.3607001304626465, -3.3043999671936035, -4.761899948120117, -5.741099834442139, -5.417699813842773, -5.759099960327148, -5.439899921417236, -4.166299819946289, -5.626299858093262, -4.722899913787842, -5.724299907684326, -5.39739990234375, -4.8684000968933105, -5.2144999504089355, -5.10260009765625, -5.153800010681152, -5.185800075531006, -5.226799964904785, -5.392300128936768, -5.479599952697754, -5.599400043487549, -5.609399795532227, -5.612199783325195, -5.6082000732421875, -4.904300212860107, -4.970200061798096, -5.171999931335449, -5.339799880981445, -5.543900012969971, -5.72160005569458, -5.7459001541137695, -5.753300189971924, -5.8119001388549805, -5.958899974822998, -6.089799880981445, -6.112599849700928, -6.200099945068359, -6.214600086212158, -6.24370002746582, -6.247600078582764, -6.258900165557861, -6.294300079345703, -6.318399906158447, -6.334499835968018, -6.34119987487793, -6.344900131225586, -6.426400184631348, -6.442299842834473, -6.510200023651123, -6.5183000564575195, -6.533199787139893, -6.585899829864502, -6.595300197601318, -6.595200061798096, -5.53410005569458, -5.409900188446045, -4.85860013961792, -5.565100193023682, -5.781099796295166, -5.449399948120117, -6.1743998527526855, -5.218900203704834, -4.4857001304626465, -5.625699996948242, -6.0995001792907715, -4.688899993896484, -4.216100215911865, -4.6402997970581055, -5.035200119018555, -4.582399845123291, -5.356500148773193, -5.74399995803833, -4.639400005340576, -5.443999767303467, -5.009799957275391, -5.3649001121521, -5.3246002197265625, -4.931099891662598, -5.078400135040283, -5.18720006942749, -5.135700225830078, -5.435400009155273, -5.3282999992370605, -5.190899848937988, -5.396999835968018, -5.421500205993652, -5.421299934387207, -2.939500093460083, -3.1098999977111816, -3.932499885559082, -4.51200008392334, -4.59119987487793, -4.990600109100342, -5.254000186920166, -5.695000171661377, -5.692999839782715, -5.745200157165527, -5.812300205230713, -6.044400215148926, -6.130899906158447, -6.201399803161621, -6.236999988555908, -6.42579984664917, -6.484899997711182, -6.532599925994873, -6.5406999588012695, -6.548999786376953, -6.573500156402588, -6.650100231170654, -6.6641998291015625, -6.651100158691406, -6.752900123596191, -6.769700050354004, -6.763700008392334, -6.767000198364258, -6.847300052642822, -6.8993000984191895, -4.501999855041504, -5.148600101470947, -5.02239990234375, -6.151700019836426, -5.406400203704834, -5.1458001136779785, -4.881100177764893, -4.68310022354126, -5.42579984664917, -4.788000106811523, -5.18310022354126, -4.747499942779541, -5.472700119018555, -5.152900218963623, -4.759799957275391, -5.350800037384033, -5.280799865722656, -5.725100040435791, -5.153600215911865, -5.601399898529053, -5.121699810028076, -4.865200042724609, -5.000199794769287, -5.292799949645996, -5.026000022888184, -5.406099796295166, -5.244200229644775, -5.342100143432617, -5.363500118255615]}, \"token.table\": {\"Topic\": [3, 4, 1, 4, 1, 2, 3, 4, 5, 6, 7, 1, 2, 5, 7, 1, 2, 2, 3, 2, 3, 6, 7, 4, 7, 1, 2, 3, 4, 6, 1, 2, 3, 4, 5, 6, 7, 6, 6, 5, 7, 7, 4, 1, 2, 3, 4, 5, 7, 6, 1, 2, 3, 4, 5, 7, 7, 4, 3, 6, 4, 7, 1, 2, 1, 2, 3, 4, 5, 6, 5, 5, 3, 3, 2, 2, 5, 6, 1, 2, 3, 4, 5, 6, 5, 6, 6, 6, 1, 4, 1, 2, 3, 5, 7, 6, 3, 5, 2, 1, 7, 5, 5, 5, 5, 1, 2, 7, 1, 4, 5, 4, 5, 2, 1, 2, 3, 7, 2, 3, 2, 3, 1, 2, 3, 4, 7, 2, 2, 3, 1, 1, 2, 3, 4, 5, 6, 7, 6, 4, 3, 6, 1, 1, 2, 5, 7, 1, 2, 3, 4, 5, 6, 3, 4, 6, 3, 1, 2, 2, 6, 5, 1, 2, 2, 5, 5, 7, 3, 3, 4, 6, 3, 3, 4, 5, 7, 1, 3, 5, 7, 2, 3, 2, 3, 6, 7, 1, 2, 4, 6, 7, 3, 7, 7, 1, 2, 3, 4, 5, 6, 7, 1, 5, 1, 2, 3, 4, 5, 6, 7, 5, 6, 1, 4, 5, 6, 7, 1, 1, 2, 3, 4, 5, 2, 4, 1, 3, 4, 6, 7, 4, 1, 4, 6, 7, 1, 5, 1, 1, 4, 5, 1, 2, 3, 4, 5, 6, 7, 7, 2, 3, 7, 1, 2, 3, 4, 5, 6, 7, 3, 1, 2, 3, 4, 5, 6, 2, 3, 3, 7, 3, 4, 6, 6, 2, 5, 7, 6, 5, 4, 2, 3, 4, 6, 4, 1, 7, 4, 5, 6, 4, 4, 7, 7, 6, 4, 1, 4, 6, 7, 1, 4, 5, 6, 7, 3, 5, 1, 3, 4, 5, 6, 4, 1, 3, 4, 1, 2, 3, 4, 6, 7, 1, 2, 3, 4, 5, 6, 5, 1, 2, 3, 4, 5, 7, 4, 2, 7, 3, 5, 2, 5, 4, 5, 5, 1, 2, 3, 4, 5, 6, 7, 6, 2, 1, 2, 3, 4, 5, 6, 1, 2, 3, 4, 4, 1, 2, 3, 4, 5, 7, 1, 2, 3, 4, 5, 6, 1, 2, 3, 4, 5, 6, 7, 6, 1, 2, 3, 4, 7, 2, 7, 1, 1, 1, 2, 3, 2, 1, 2, 3, 5, 1, 2, 3, 5, 7, 3, 1, 5, 6, 6, 1, 7, 1, 2, 3, 4, 5, 6, 7, 1, 2, 3, 4, 5, 6, 7, 1, 2, 3, 4, 7, 1, 2, 3, 4, 5, 6, 3, 3, 4, 4, 3, 1, 7, 1, 1, 2, 3, 4, 5, 7, 1, 2, 3, 4, 5, 6, 7, 1, 5, 5, 2, 4, 2, 1, 2, 3, 5, 1, 2, 3, 4, 7, 1, 7, 5, 4, 1, 6, 3, 4, 4, 1, 5, 6, 5, 2, 2, 2, 1, 4, 5, 6, 2, 4, 7, 1, 2, 3, 4, 5, 6, 7, 7, 1, 2, 3, 4, 5, 6, 7, 1, 2, 3, 5, 6, 7, 7, 4, 1, 2, 3, 4, 5, 6, 7, 1, 2, 3, 4, 5, 6, 2, 7, 7, 6, 1, 1, 2, 3, 4, 5, 6, 7, 6, 4, 1, 6, 1, 5, 7, 7, 1, 1, 2, 3, 5, 7, 6, 6, 2, 3, 4, 7, 4, 2, 1, 3, 3, 2, 3, 6, 4, 2, 3, 6, 1, 2, 3, 4, 5, 6, 7, 1, 1, 1, 5, 1, 2, 3, 4, 5, 6, 7, 4, 2, 1, 3, 1, 2, 3, 2, 3, 4, 5, 6, 7, 1, 1, 2, 3, 4, 5, 6, 4, 2, 3, 7, 4, 2, 1, 5, 3, 4, 6, 6, 1, 3, 2, 2, 3, 1, 3, 4, 4, 3, 3, 4, 6, 3, 6, 2, 7, 2, 7, 2, 6, 2, 3, 1, 5, 6, 7, 4, 6, 1, 4, 3, 4, 6, 5, 1, 2, 3, 4, 5, 6, 4, 7, 4, 1, 2, 3, 4, 5, 6, 7, 3, 4, 1, 4, 3, 2, 4, 6, 7, 1, 6, 3, 1, 2, 3, 4, 5, 6, 1, 2, 3, 4, 5, 6, 7, 4, 5, 6, 6, 1, 2, 3, 4, 5, 6, 1, 2, 3, 4, 5, 6, 7, 1, 2, 3, 4, 5, 6, 7, 1, 4, 1, 2, 5, 6, 7, 6, 6, 3, 7, 7, 7, 5, 5, 2, 2, 2, 2, 4, 6, 7, 5, 2, 1, 2, 3, 4, 5, 6, 7, 3, 4, 2, 3, 5, 7, 2, 3, 7, 7, 3, 6, 7, 2, 7, 7, 5, 6, 1, 2, 3, 4, 5, 6, 7, 3, 1, 2, 3, 4, 5, 6, 1, 1, 2, 3, 5, 7, 1], \"Freq\": [0.998681902885437, 0.9897213578224182, 0.39687401056289673, 0.60236656665802, 0.19429759681224823, 0.21190385520458221, 0.16191466152668, 0.1103534922003746, 0.17920652031898499, 0.12984612584114075, 0.012261498719453812, 0.9299816489219666, 0.06974862515926361, 0.9964474439620972, 0.9898990392684937, 0.9996728897094727, 0.9974292516708374, 0.9021671414375305, 0.09605807811021805, 0.22067883610725403, 0.5212586522102356, 0.18453316390514374, 0.07419374585151672, 0.13925541937351227, 0.8602890372276306, 0.12348710745573044, 0.05192791298031807, 0.3799603283405304, 0.1817476898431778, 0.26280590891838074, 0.13759663701057434, 0.049575258046388626, 0.30959242582321167, 0.2670993506908417, 0.10572682321071625, 0.10876204073429108, 0.021752407774329185, 0.9982677102088928, 0.9961066842079163, 0.999782919883728, 0.996981680393219, 0.9917658567428589, 0.9940707683563232, 0.27165859937667847, 0.27203330397605896, 0.1888495683670044, 0.13226963579654694, 0.028102615848183632, 0.10678993910551071, 0.9979200959205627, 0.1056477501988411, 0.12652425467967987, 0.4029797315597534, 0.23849821090698242, 0.08856697380542755, 0.037324655801057816, 0.9997040033340454, 0.9980329871177673, 0.0839347317814827, 0.9136895537376404, 0.9988292455673218, 0.9983406662940979, 0.16629044711589813, 0.8337147235870361, 0.3794398903846741, 0.12144161760807037, 0.07661767303943634, 0.205877423286438, 0.08964788913726807, 0.12717491388320923, 0.9992486238479614, 0.9966174364089966, 0.9916134476661682, 0.999596357345581, 0.9979244470596313, 0.9956984519958496, 0.9994164109230042, 0.9964331984519958, 0.5021523237228394, 0.16640065610408783, 0.03599447011947632, 0.192953959107399, 0.05310659483075142, 0.049566153436899185, 0.7382137179374695, 0.2603592574596405, 0.9980428814888, 0.9979243874549866, 0.11550739407539368, 0.8844074010848999, 0.21953381597995758, 0.5015184283256531, 0.07296551764011383, 0.1725894659757614, 0.033349595963954926, 0.9900732636451721, 0.9963065981864929, 0.9985988140106201, 0.9979729652404785, 0.9529587626457214, 0.04641648009419441, 0.9996967911720276, 0.9968008995056152, 0.9993354678153992, 0.9991853833198547, 0.8033125996589661, 0.14138302206993103, 0.053554173558950424, 0.6679665446281433, 0.17667792737483978, 0.15343083441257477, 0.9986281991004944, 0.9982866048812866, 0.9983640909194946, 0.030494140461087227, 0.6167685985565186, 0.3182211220264435, 0.03393702581524849, 0.6326490640640259, 0.36678120493888855, 0.7958701252937317, 0.20398351550102234, 0.13808122277259827, 0.2592545449733734, 0.16626106202602386, 0.0948721319437027, 0.3409760892391205, 0.9993675947189331, 0.970405638217926, 0.02784828469157219, 0.9995163083076477, 0.13505679368972778, 0.21834181249141693, 0.06392688304185867, 0.24310222268104553, 0.14451076090335846, 0.17377306520938873, 0.02160908654332161, 0.9965615272521973, 0.9977038502693176, 0.9963268637657166, 0.9901586771011353, 0.9971436858177185, 0.610112190246582, 0.18230444192886353, 0.07778322696685791, 0.12882846593856812, 0.3104037642478943, 0.08307865262031555, 0.21865206956863403, 0.23919348418712616, 0.12233560532331467, 0.026475615799427032, 0.5858299732208252, 0.25163835287094116, 0.1621227264404297, 0.9971275925636292, 0.9201303124427795, 0.07450447976589203, 0.14635004103183746, 0.8519662618637085, 0.9978758096694946, 0.9971827268600464, 0.9966407418251038, 0.9969826340675354, 0.9993030428886414, 0.996306836605072, 0.9906286597251892, 0.9965315461158752, 0.7919262051582336, 0.13802939653396606, 0.06971181929111481, 0.9911180734634399, 0.034347474575042725, 0.19627127051353455, 0.2535170614719391, 0.5152121186256409, 0.4432162642478943, 0.06581401824951172, 0.20669713616371155, 0.2848512828350067, 0.8249673843383789, 0.17409007251262665, 0.9995347261428833, 0.9957858324050903, 0.9943835735321045, 0.9824109673500061, 0.09868323802947998, 0.19050155580043793, 0.40360015630722046, 0.23512354493141174, 0.07208167016506195, 0.9299379587173462, 0.06642413884401321, 0.9800769686698914, 0.07791383564472198, 0.09922987967729568, 0.09114447981119156, 0.5255508422851562, 0.020581012591719627, 0.15215247869491577, 0.03307662531733513, 0.9809701442718506, 0.018166113644838333, 0.1792251169681549, 0.2028406709432602, 0.265674889087677, 0.07675052434206009, 0.16362199187278748, 0.0497613288462162, 0.06199080869555473, 0.15839919447898865, 0.8403957486152649, 0.06009530648589134, 0.17694728076457977, 0.6293314099311829, 0.08012707531452179, 0.05174873396754265, 0.999403178691864, 0.47293296456336975, 0.15421727299690247, 0.1328641027212143, 0.14630869030952454, 0.09332121908664703, 0.8748894929885864, 0.12361264228820801, 0.20514285564422607, 0.005269080400466919, 0.5571174025535583, 0.16720548272132874, 0.06498531997203827, 0.9974076151847839, 0.9991384744644165, 0.19682833552360535, 0.8004352450370789, 0.9883356094360352, 0.9988355040550232, 0.9977884888648987, 0.9987648129463196, 0.9970113039016724, 0.9882441163063049, 0.011242822743952274, 0.21299783885478973, 0.1848013550043106, 0.25738826394081116, 0.207091823220253, 0.08325586467981339, 0.04343784227967262, 0.011240494437515736, 0.9896778464317322, 0.5342593789100647, 0.14246916770935059, 0.32340502738952637, 0.2077941596508026, 0.26025062799453735, 0.18489062786102295, 0.2336529791355133, 0.07092706859111786, 0.01680823788046837, 0.02567412331700325, 0.9975194334983826, 0.22866535186767578, 0.27598193287849426, 0.0997229740023613, 0.1866271197795868, 0.04467740282416344, 0.16419416666030884, 0.997856616973877, 0.9985697865486145, 0.9969322681427002, 0.9927659034729004, 0.2665301263332367, 0.7084393501281738, 0.02538382075726986, 0.9966595768928528, 0.46723833680152893, 0.0767839252948761, 0.45580244064331055, 0.9945101737976074, 0.9955178499221802, 0.9971396923065186, 0.1040901243686676, 0.15016280114650726, 0.5417805314064026, 0.20391425490379333, 0.9979386329650879, 0.8711074590682983, 0.1272161900997162, 0.22944879531860352, 0.092662014067173, 0.6773152351379395, 0.9979201555252075, 0.9997683167457581, 0.9966928958892822, 0.9963850975036621, 0.9961681962013245, 0.9942060112953186, 0.08428185433149338, 0.6211639046669006, 0.11082731932401657, 0.18316371738910675, 0.2112724632024765, 0.31736600399017334, 0.14999429881572723, 0.12530012428760529, 0.19663886725902557, 0.9980787038803101, 0.9989604949951172, 0.2599700093269348, 0.1772940307855606, 0.1524912416934967, 0.041337985545396805, 0.3692860007286072, 0.9988551735877991, 0.17214323580265045, 0.21149025857448578, 0.6147972345352173, 0.07700550556182861, 0.4262040853500366, 0.23743364214897156, 0.1695190668106079, 0.06042793020606041, 0.02994658425450325, 0.07261671125888824, 0.13440856337547302, 0.18943488597869873, 0.07306774705648422, 0.09742365777492523, 0.4329940378665924, 0.9986075758934021, 0.11318954825401306, 0.2594394087791443, 0.18043085932731628, 0.11879298835992813, 0.09525853395462036, 0.23254288733005524, 0.9941368103027344, 0.9207942485809326, 0.07733704894781113, 0.9994884133338928, 0.9997605085372925, 0.0621422678232193, 0.9377389550209045, 0.08665680885314941, 0.9098964929580688, 0.9970307350158691, 0.13418221473693848, 0.21800340712070465, 0.3323826491832733, 0.18881109356880188, 0.10328274220228195, 0.013315791264176369, 0.009901486337184906, 0.9966135621070862, 0.9974716901779175, 0.118343785405159, 0.11944636702537537, 0.34510812163352966, 0.27160266041755676, 0.11099323630332947, 0.034180037677288055, 0.8799901008605957, 0.03184174746274948, 0.08684112876653671, 0.9987853765487671, 0.993668258190155, 0.0700136348605156, 0.1748633086681366, 0.44159817695617676, 0.258196622133255, 0.022540973499417305, 0.03278687223792076, 0.1938050240278244, 0.050579603761434555, 0.18979871273040771, 0.442696750164032, 0.014522857032716274, 0.10867103189229965, 0.16650037467479706, 0.1997445821762085, 0.13884343206882477, 0.2718202471733093, 0.05196152627468109, 0.14834177494049072, 0.022907769307494164, 0.999431312084198, 0.9988434314727783, 0.9972235560417175, 0.213250532746315, 0.7091426849365234, 0.07616090774536133, 0.9995272159576416, 0.9969139099121094, 0.9983474016189575, 0.9966846704483032, 0.9971871376037598, 0.21512404084205627, 0.7831859588623047, 0.998512327671051, 0.7599068880081177, 0.07756835222244263, 0.143304243683815, 0.019720766693353653, 0.21338777244091034, 0.17163798213005066, 0.14264509081840515, 0.19019344449043274, 0.28181102871894836, 0.9913948178291321, 0.19130243360996246, 0.2650335729122162, 0.5440163016319275, 0.9970364570617676, 0.9969149827957153, 0.9876275062561035, 0.22703495621681213, 0.24456661939620972, 0.19255603849887848, 0.1574927270412445, 0.10635872185230255, 0.030972594395279884, 0.040907200425863266, 0.16401617228984833, 0.15811631083488464, 0.11858723312616348, 0.24248433113098145, 0.140711709856987, 0.16755609214305878, 0.008554800413548946, 0.33550897240638733, 0.23560185730457306, 0.2579691410064697, 0.057160791009664536, 0.11382453143596649, 0.010025651194155216, 0.21346282958984375, 0.22265301644802094, 0.3107951879501343, 0.09357275068759918, 0.14954930543899536, 0.9921941757202148, 0.11209836602210999, 0.8852896690368652, 0.996002197265625, 0.9966541528701782, 0.6407269835472107, 0.3588882386684418, 0.9998565912246704, 0.20008297264575958, 0.1342838704586029, 0.228954017162323, 0.12622684240341187, 0.04297083988785744, 0.26722490787506104, 0.21787700057029724, 0.1444980502128601, 0.12176652997732162, 0.2799566686153412, 0.12376052141189575, 0.06301019340753555, 0.04905223473906517, 0.9979426860809326, 0.9978232979774475, 0.9962173700332642, 0.9496471285820007, 0.04933232069015503, 0.9991298913955688, 0.9975525736808777, 0.0976489707827568, 0.2820970118045807, 0.618443489074707, 0.47403720021247864, 0.05113520845770836, 0.23770961165428162, 0.13129310309886932, 0.10572549700737, 0.5279760956764221, 0.4706529676914215, 0.9992666840553284, 0.9954668879508972, 0.9975690245628357, 0.9958617091178894, 0.6141222715377808, 0.38559669256210327, 0.998996376991272, 0.39948850870132446, 0.35001397132873535, 0.2495880126953125, 0.9982683062553406, 0.9991233944892883, 0.9965656399726868, 0.9967218637466431, 0.9151723980903625, 0.08319748938083649, 0.9993728399276733, 0.9950559735298157, 0.03643418475985527, 0.935472309589386, 0.027571815997362137, 0.5912753343582153, 0.14352968335151672, 0.025525687262415886, 0.16110475361347198, 0.04017157480120659, 0.013390524312853813, 0.025107234716415405, 0.9824474453926086, 0.441404789686203, 0.01728392206132412, 0.11899315565824509, 0.18613454699516296, 0.1269703507423401, 0.07578334957361221, 0.03323831036686897, 0.2474287897348404, 0.5018602609634399, 0.19016225636005402, 0.01011501345783472, 0.05041944980621338, 0.9847339391708374, 0.995062530040741, 0.9947524070739746, 0.16970717906951904, 0.06719619780778885, 0.20158858597278595, 0.2540702819824219, 0.0858345553278923, 0.18491216003894806, 0.036786239594221115, 0.33659377694129944, 0.1465172916650772, 0.06533879041671753, 0.3613433241844177, 0.04603414982557297, 0.04405418410897255, 0.12078427523374557, 0.8769269585609436, 0.9857144951820374, 0.9956475496292114, 0.9957948327064514, 0.1480843424797058, 0.247332364320755, 0.32641568779945374, 0.1386321485042572, 0.08569987118244171, 0.03717862069606781, 0.01638379879295826, 0.9934414029121399, 0.9960331320762634, 0.08247286826372147, 0.9123561382293701, 0.3506489396095276, 0.23307842016220093, 0.4145908057689667, 0.9952943325042725, 0.9924658536911011, 0.11781946569681168, 0.7568619847297668, 0.06275167316198349, 0.04994520545005798, 0.011525817215442657, 0.9926856756210327, 0.998098611831665, 0.998430609703064, 0.5363264679908752, 0.34632137417793274, 0.11723719537258148, 0.9953086376190186, 0.9983672499656677, 0.9981256723403931, 0.9973202347755432, 0.99445641040802, 0.862456202507019, 0.13658808171749115, 0.9965116381645203, 0.9986280798912048, 0.9953428506851196, 0.8781525492668152, 0.12098990380764008, 0.23369386792182922, 0.1342828869819641, 0.22120243310928345, 0.09732907265424728, 0.1816462278366089, 0.007286668289452791, 0.1254347860813141, 0.998634397983551, 0.9986459612846375, 0.8944234848022461, 0.10624367743730545, 0.11930080503225327, 0.01673121005296707, 0.006546995602548122, 0.3077087700366974, 0.1593102216720581, 0.2895226776599884, 0.10111470520496368, 0.9977806806564331, 0.9995942115783691, 0.9964511394500732, 0.9927502274513245, 0.7875745892524719, 0.2124064862728119, 0.9964527487754822, 0.05903124064207077, 0.07616934180259705, 0.3230849504470825, 0.02475503645837307, 0.23549021780490875, 0.2811918258666992, 0.9964386820793152, 0.01277588214725256, 0.13008171319961548, 0.2590019702911377, 0.16085997223854065, 0.11498294025659561, 0.3217199444770813, 0.9957410097122192, 0.2643122673034668, 0.7352267503738403, 0.9984278678894043, 0.9909204840660095, 0.9975517988204956, 0.9940539598464966, 0.9990453720092773, 0.017122499644756317, 0.7790737152099609, 0.2033296674489975, 0.9976046085357666, 0.9922388792037964, 0.994587242603302, 0.9959427714347839, 0.999165415763855, 0.9958433508872986, 0.01777883991599083, 0.13037815690040588, 0.8504211902618408, 0.9965209364891052, 0.9902812838554382, 0.990692675113678, 0.12019070982933044, 0.8780598640441895, 0.9932762384414673, 0.9972827434539795, 0.45068925619125366, 0.5474474430084229, 0.22629152238368988, 0.7693911790847778, 0.06130141392350197, 0.9362397789955139, 0.4992423355579376, 0.5000957250595093, 0.06542808562517166, 0.8304334282875061, 0.10317506641149521, 0.98873370885849, 0.9938247203826904, 0.9978827238082886, 0.35094279050827026, 0.648101270198822, 0.5830554366111755, 0.11576402932405472, 0.30070412158966064, 0.9967268109321594, 0.2076287865638733, 0.08769414573907852, 0.2699604034423828, 0.24373812973499298, 0.13583995401859283, 0.055453650653362274, 0.995087206363678, 0.9899935722351074, 0.998180091381073, 0.24493317306041718, 0.23482125997543335, 0.1919017732143402, 0.12291600555181503, 0.126511350274086, 0.03438052907586098, 0.0444924496114254, 0.057944100350141525, 0.9419183731079102, 0.3709958493709564, 0.6284215450286865, 0.9967081546783447, 0.999812662601471, 0.21571408212184906, 0.7834451198577881, 0.9892650842666626, 0.995437502861023, 0.997734785079956, 0.9988650679588318, 0.37709906697273254, 0.09182317554950714, 0.09360615164041519, 0.10341250896453857, 0.005348922684788704, 0.32806727290153503, 0.11799749732017517, 0.17650045454502106, 0.11303962022066116, 0.2092224508523941, 0.1308879852294922, 0.18691200017929077, 0.0659397765994072, 0.11399301141500473, 0.7917653918266296, 0.09455234557390213, 0.999167263507843, 0.1488131880760193, 0.34098562598228455, 0.08230225741863251, 0.15189115703105927, 0.107728973031044, 0.16821777820587158, 0.22248396277427673, 0.36022278666496277, 0.1603226214647293, 0.10822335630655289, 0.06618618220090866, 0.06730419397354126, 0.015204934403300285, 0.18963909149169922, 0.3950522243976593, 0.11637740582227707, 0.08868519216775894, 0.13425466418266296, 0.051178015768527985, 0.024887939915060997, 0.10925745964050293, 0.8906137943267822, 0.4246073365211487, 0.23976799845695496, 0.16740165650844574, 0.1338341385126114, 0.03400346264243126, 0.9963036775588989, 0.9936223030090332, 0.9979756474494934, 0.9899081587791443, 0.9945557117462158, 0.9943121075630188, 0.9985478520393372, 0.9938566088676453, 0.9995014071464539, 0.9991433024406433, 0.9996011257171631, 0.6518882513046265, 0.02190897986292839, 0.3009602129459381, 0.024983925744891167, 0.9964504837989807, 0.9996473789215088, 0.1510923057794571, 0.17479661107063293, 0.23613828420639038, 0.2357763797044754, 0.03257079795002937, 0.1112835556268692, 0.05826553702354431, 0.8950900435447693, 0.10383044183254242, 0.26091039180755615, 0.13641507923603058, 0.6026103496551514, 0.993049681186676, 0.20508846640586853, 0.44414061307907104, 0.35008731484413147, 0.9988685250282288, 0.08031444251537323, 0.495941698551178, 0.42365869879722595, 0.8131150603294373, 0.18643678724765778, 0.9997760653495789, 0.33050060272216797, 0.6682490110397339, 0.20586349070072174, 0.18919621407985687, 0.1609669327735901, 0.19099807739257812, 0.09564919769763947, 0.12357816100120544, 0.03363488242030144, 0.9945736527442932, 0.19616390764713287, 0.10565584897994995, 0.27644720673561096, 0.21566668152809143, 0.11095757782459259, 0.09486304223537445, 0.9989405274391174, 0.3204557001590729, 0.21318450570106506, 0.16384881734848022, 0.11722885072231293, 0.18557462096214294, 0.9989615678787231], \"Term\": [\"adhesive\", \"adjustable\", \"air\", \"air\", \"also\", \"also\", \"also\", \"also\", \"also\", \"also\", \"also\", \"amazon\", \"amazon\", \"amp\", \"anco\", \"app\", \"applicator\", \"apply\", \"apply\", \"area\", \"area\", \"area\", \"area\", \"arm\", \"arm\", \"around\", \"around\", \"around\", \"around\", \"around\", \"back\", \"back\", \"back\", \"back\", \"back\", \"back\", \"back\", \"bag\", \"bamboo\", \"battery\", \"beam\", \"became\", \"bend\", \"better\", \"better\", \"better\", \"better\", \"better\", \"better\", \"bike\", \"bit\", \"bit\", \"bit\", \"bit\", \"bit\", \"bit\", \"blade\", \"block\", \"board\", \"board\", \"bolt\", \"bosch\", \"bottle\", \"bottle\", \"bought\", \"bought\", \"bought\", \"bought\", \"bought\", \"bought\", \"bright\", \"brighter\", \"bristle\", \"brush\", \"bucket\", \"buff\", \"bulb\", \"button\", \"buy\", \"buy\", \"buy\", \"buy\", \"buy\", \"buy\", \"cable\", \"cable\", \"camco\", \"camping\", \"cap\", \"cap\", \"car\", \"car\", \"car\", \"car\", \"car\", \"cargo\", \"carpet\", \"cell\", \"chamois\", \"change\", \"change\", \"charge\", \"charged\", \"charger\", \"charging\", \"cheaper\", \"cheaper\", \"cheaper\", \"check\", \"check\", \"check\", \"chemical\", \"cigarette\", \"clay\", \"clean\", \"clean\", \"clean\", \"clean\", \"cleaner\", \"cleaner\", \"cleaning\", \"cleaning\", \"clear\", \"clear\", \"clear\", \"clear\", \"clear\", \"cloth\", \"coat\", \"coat\", \"code\", \"come\", \"come\", \"come\", \"come\", \"come\", \"come\", \"come\", \"compact\", \"compressor\", \"conditioner\", \"controller\", \"coolant\", \"cost\", \"cost\", \"cost\", \"cost\", \"could\", \"could\", \"could\", \"could\", \"could\", \"could\", \"cover\", \"cover\", \"cover\", \"crack\", \"cup\", \"cup\", \"cutting\", \"cutting\", \"data\", \"dealer\", \"detailer\", \"detailing\", \"device\", \"display\", \"disposable\", \"dog\", \"door\", \"door\", \"door\", \"dressing\", \"driver\", \"driver\", \"driver\", \"driver\", \"driving\", \"driving\", \"driving\", \"driving\", \"dry\", \"dry\", \"drying\", \"dub\", \"dump\", \"early\", \"easy\", \"easy\", \"easy\", \"easy\", \"easy\", \"edge\", \"edge\", \"elsewhere\", \"end\", \"end\", \"end\", \"end\", \"end\", \"end\", \"end\", \"engine\", \"engine\", \"even\", \"even\", \"even\", \"even\", \"even\", \"even\", \"even\", \"extension\", \"extension\", \"feature\", \"feature\", \"feature\", \"feature\", \"feature\", \"filter\", \"find\", \"find\", \"find\", \"find\", \"find\", \"finish\", \"finish\", \"fit\", \"fit\", \"fit\", \"fit\", \"fit\", \"fitting\", \"fluid\", \"foot\", \"foot\", \"frameless\", \"fuel\", \"fuse\", \"gas\", \"gasket\", \"gauge\", \"gauge\", \"get\", \"get\", \"get\", \"get\", \"get\", \"get\", \"get\", \"glare\", \"glass\", \"glass\", \"glass\", \"good\", \"good\", \"good\", \"good\", \"good\", \"good\", \"good\", \"grease\", \"great\", \"great\", \"great\", \"great\", \"great\", \"great\", \"griot\", \"grit\", \"gun\", \"halogen\", \"handle\", \"handle\", \"handle\", \"harness\", \"headlight\", \"headlight\", \"headlight\", \"helmet\", \"hid\", \"hitch\", \"hold\", \"hold\", \"hold\", \"hold\", \"hole\", \"honda\", \"honda\", \"hook\", \"hook\", \"hook\", \"horn\", \"hose\", \"ice\", \"icon\", \"indicator\", \"insert\", \"install\", \"install\", \"install\", \"install\", \"installed\", \"installed\", \"installed\", \"installed\", \"installed\", \"interior\", \"inverter\", \"item\", \"item\", \"item\", \"item\", \"item\", \"jack\", \"jeep\", \"jeep\", \"jeep\", \"job\", \"job\", \"job\", \"job\", \"job\", \"job\", \"keep\", \"keep\", \"keep\", \"keep\", \"keep\", \"keep\", \"laptop\", \"last\", \"last\", \"last\", \"last\", \"last\", \"last\", \"latch\", \"leaf\", \"leaf\", \"leather\", \"led\", \"light\", \"light\", \"lighter\", \"lighter\", \"lighting\", \"like\", \"like\", \"like\", \"like\", \"like\", \"like\", \"like\", \"link\", \"lint\", \"little\", \"little\", \"little\", \"little\", \"little\", \"little\", \"local\", \"local\", \"local\", \"lock\", \"locking\", \"look\", \"look\", \"look\", \"look\", \"look\", \"look\", \"made\", \"made\", \"made\", \"made\", \"made\", \"made\", \"make\", \"make\", \"make\", \"make\", \"make\", \"make\", \"make\", \"mat\", \"mechanic\", \"meguiar\", \"metal\", \"metal\", \"metal\", \"microfiber\", \"mild\", \"mile\", \"mileage\", \"minor\", \"mirror\", \"mirror\", \"mitt\", \"money\", \"money\", \"money\", \"money\", \"month\", \"month\", \"month\", \"month\", \"month\", \"motion\", \"motorcycle\", \"motorcycle\", \"motorcycle\", \"mower\", \"mpg\", \"mph\", \"much\", \"much\", \"much\", \"much\", \"much\", \"much\", \"much\", \"need\", \"need\", \"need\", \"need\", \"need\", \"need\", \"need\", \"new\", \"new\", \"new\", \"new\", \"new\", \"nice\", \"nice\", \"nice\", \"nice\", \"nice\", \"nice\", \"nova\", \"nozzle\", \"nozzle\", \"nut\", \"odor\", \"oem\", \"oem\", \"oil\", \"old\", \"old\", \"old\", \"old\", \"old\", \"old\", \"one\", \"one\", \"one\", \"one\", \"one\", \"one\", \"one\", \"online\", \"outlet\", \"output\", \"pad\", \"pad\", \"paint\", \"pan\", \"panel\", \"panel\", \"panel\", \"part\", \"part\", \"part\", \"part\", \"part\", \"performance\", \"performance\", \"phone\", \"pin\", \"pink\", \"pipe\", \"plastic\", \"plastic\", \"plate\", \"plug\", \"plug\", \"plug\", \"plugged\", \"polish\", \"polisher\", \"polishing\", \"port\", \"port\", \"power\", \"powered\", \"pressure\", \"pressure\", \"pressure\", \"price\", \"price\", \"price\", \"price\", \"price\", \"price\", \"price\", \"prius\", \"problem\", \"problem\", \"problem\", \"problem\", \"problem\", \"problem\", \"problem\", \"product\", \"product\", \"product\", \"product\", \"product\", \"profile\", \"promise\", \"psi\", \"put\", \"put\", \"put\", \"put\", \"put\", \"put\", \"put\", \"quality\", \"quality\", \"quality\", \"quality\", \"quality\", \"quality\", \"rain\", \"rain\", \"rainy\", \"ramp\", \"reader\", \"really\", \"really\", \"really\", \"really\", \"really\", \"really\", \"really\", \"receiver\", \"release\", \"remote\", \"remote\", \"replaced\", \"replaced\", \"replaced\", \"report\", \"research\", \"result\", \"result\", \"result\", \"result\", \"result\", \"ride\", \"riding\", \"rinse\", \"rubber\", \"rubber\", \"rubber\", \"rugged\", \"sanding\", \"scanner\", \"scent\", \"scraper\", \"scratch\", \"scratch\", \"screen\", \"screw\", \"sealant\", \"seat\", \"seat\", \"see\", \"see\", \"see\", \"see\", \"see\", \"see\", \"see\", \"sensor\", \"sent\", \"service\", \"service\", \"set\", \"set\", \"set\", \"set\", \"set\", \"set\", \"set\", \"sewer\", \"shine\", \"shipping\", \"shoe\", \"shop\", \"shop\", \"shower\", \"side\", \"side\", \"side\", \"side\", \"side\", \"side\", \"slow\", \"small\", \"small\", \"small\", \"small\", \"small\", \"small\", \"smart\", \"smell\", \"smell\", \"snow\", \"snug\", \"soap\", \"software\", \"solar\", \"solid\", \"solid\", \"solid\", \"space\", \"spark\", \"specific\", \"sponge\", \"spray\", \"spraying\", \"stand\", \"stand\", \"stand\", \"steel\", \"sticky\", \"stiff\", \"storage\", \"storage\", \"stove\", \"strap\", \"streak\", \"streak\", \"streaking\", \"streaking\", \"strip\", \"strip\", \"surface\", \"surface\", \"switch\", \"switch\", \"switch\", \"sylvania\", \"tab\", \"tablet\", \"tank\", \"tank\", \"tape\", \"tape\", \"tape\", \"tender\", \"thing\", \"thing\", \"thing\", \"thing\", \"thing\", \"thing\", \"thread\", \"throttle\", \"tighten\", \"time\", \"time\", \"time\", \"time\", \"time\", \"time\", \"time\", \"tire\", \"tire\", \"tool\", \"tool\", \"torque\", \"towel\", \"trailer\", \"trailer\", \"transfer\", \"transmission\", \"travel\", \"trim\", \"truck\", \"truck\", \"truck\", \"truck\", \"truck\", \"truck\", \"two\", \"two\", \"two\", \"two\", \"two\", \"two\", \"two\", \"unit\", \"unit\", \"unit\", \"usb\", \"use\", \"use\", \"use\", \"use\", \"use\", \"use\", \"used\", \"used\", \"used\", \"used\", \"used\", \"used\", \"used\", \"using\", \"using\", \"using\", \"using\", \"using\", \"using\", \"using\", \"valve\", \"valve\", \"vehicle\", \"vehicle\", \"vehicle\", \"vehicle\", \"vehicle\", \"velcro\", \"vent\", \"vinyl\", \"visibility\", \"vision\", \"visor\", \"volt\", \"voltage\", \"wash\", \"washed\", \"washing\", \"water\", \"water\", \"water\", \"water\", \"watt\", \"wax\", \"well\", \"well\", \"well\", \"well\", \"well\", \"well\", \"well\", \"wheel\", \"wheel\", \"white\", \"white\", \"white\", \"whiter\", \"window\", \"window\", \"window\", \"windshield\", \"winter\", \"winter\", \"winter\", \"wipe\", \"wipe\", \"wiper\", \"wire\", \"wire\", \"work\", \"work\", \"work\", \"work\", \"work\", \"work\", \"work\", \"worn\", \"would\", \"would\", \"would\", \"would\", \"would\", \"would\", \"wrench\", \"year\", \"year\", \"year\", \"year\", \"year\", \"zubie\"]}, \"R\": 30, \"lambda.step\": 0.01, \"plot.opts\": {\"xlab\": \"PC1\", \"ylab\": \"PC2\"}, \"topic.order\": [6, 1, 5, 7, 3, 4, 2]};\n",
       "\n",
       "function LDAvis_load_lib(url, callback){\n",
       "  var s = document.createElement('script');\n",
       "  s.src = url;\n",
       "  s.async = true;\n",
       "  s.onreadystatechange = s.onload = callback;\n",
       "  s.onerror = function(){console.warn(\"failed to load library \" + url);};\n",
       "  document.getElementsByTagName(\"head\")[0].appendChild(s);\n",
       "}\n",
       "\n",
       "if(typeof(LDAvis) !== \"undefined\"){\n",
       "   // already loaded: just create the visualization\n",
       "   !function(LDAvis){\n",
       "       new LDAvis(\"#\" + \"ldavis_el614816710577540563518467653\", ldavis_el614816710577540563518467653_data);\n",
       "   }(LDAvis);\n",
       "}else if(typeof define === \"function\" && define.amd){\n",
       "   // require.js is available: use it to load d3/LDAvis\n",
       "   require.config({paths: {d3: \"https://cdnjs.cloudflare.com/ajax/libs/d3/3.5.5/d3.min\"}});\n",
       "   require([\"d3\"], function(d3){\n",
       "      window.d3 = d3;\n",
       "      LDAvis_load_lib(\"https://cdn.rawgit.com/bmabey/pyLDAvis/files/ldavis.v1.0.0.js\", function(){\n",
       "        new LDAvis(\"#\" + \"ldavis_el614816710577540563518467653\", ldavis_el614816710577540563518467653_data);\n",
       "      });\n",
       "    });\n",
       "}else{\n",
       "    // require.js not available: dynamically load d3 & LDAvis\n",
       "    LDAvis_load_lib(\"https://cdnjs.cloudflare.com/ajax/libs/d3/3.5.5/d3.min.js\", function(){\n",
       "         LDAvis_load_lib(\"https://cdn.rawgit.com/bmabey/pyLDAvis/files/ldavis.v1.0.0.js\", function(){\n",
       "                 new LDAvis(\"#\" + \"ldavis_el614816710577540563518467653\", ldavis_el614816710577540563518467653_data);\n",
       "            })\n",
       "         });\n",
       "}\n",
       "</script>"
      ],
      "text/plain": [
       "PreparedData(topic_coordinates=              x         y  topics  cluster       Freq\n",
       "topic                                                \n",
       "5      0.024231 -0.086671       1        1  19.655396\n",
       "0      0.012333 -0.121417       2        1  18.006483\n",
       "4     -0.033622 -0.080652       3        1  17.411549\n",
       "6     -0.095948  0.038843       4        1  16.212250\n",
       "2      0.004258 -0.108257       5        1  12.652270\n",
       "3     -0.201852  0.201046       6        1  10.285883\n",
       "1      0.290600  0.157107       7        1   5.776182, topic_info=     Category         Freq       Term        Total  loglift  logprob\n",
       "233   Default  4103.000000      light  4103.000000  30.0000  30.0000\n",
       "1438  Default  2530.000000      blade  2530.000000  29.0000  29.0000\n",
       "1396  Default  2134.000000      wiper  2134.000000  28.0000  28.0000\n",
       "62    Default  2829.000000    battery  2829.000000  27.0000  27.0000\n",
       "784   Default  2842.000000      towel  2842.000000  26.0000  26.0000\n",
       "...       ...          ...        ...          ...      ...      ...\n",
       "6      Topic7   314.050507        car  9415.406250  -0.5491  -5.0260\n",
       "1252   Topic7   214.742355  installed  1093.374878   1.2238  -5.4061\n",
       "357    Topic7   252.485153       easy  3496.034424   0.2234  -5.2442\n",
       "21     Topic7   228.924805        new  2011.868652   0.6780  -5.3421\n",
       "56     Topic7   224.095093       work  6659.752930  -0.5403  -5.3635\n",
       "\n",
       "[464 rows x 6 columns], token_table=       Topic      Freq        Term\n",
       "term                              \n",
       "2997       3  0.998682    adhesive\n",
       "1224       4  0.989721  adjustable\n",
       "751        1  0.396874         air\n",
       "751        4  0.602367         air\n",
       "131        1  0.194298        also\n",
       "...      ...       ...         ...\n",
       "411        2  0.213185        year\n",
       "411        3  0.163849        year\n",
       "411        5  0.117229        year\n",
       "411        7  0.185575        year\n",
       "20665      1  0.998962       zubie\n",
       "\n",
       "[799 rows x 3 columns], R=30, lambda_step=0.01, plot_opts={'xlab': 'PC1', 'ylab': 'PC2'}, topic_order=[6, 1, 5, 7, 3, 4, 2])"
      ]
     },
     "execution_count": 30,
     "metadata": {},
     "output_type": "execute_result"
    }
   ],
   "source": [
    "pyLDAvis.enable_notebook()\n",
    "vis = pyLDAvis.gensim.prepare(lda_model, doc_term_matrix, dictionary)\n",
    "vis"
   ]
  },
  {
   "cell_type": "code",
   "execution_count": 32,
   "metadata": {},
   "outputs": [],
   "source": [
    "# Save trained model locally.\n",
    "import pickle\n",
    "save_file = open('lda_reviews_model.pickle', 'wb')\n",
    "pickle.dump(lda_model, save_file)\n",
    "save_file.close()\n"
   ]
  }
 ],
 "metadata": {
  "kernelspec": {
   "display_name": "Python 3",
   "language": "python",
   "name": "python3"
  },
  "language_info": {
   "codemirror_mode": {
    "name": "ipython",
    "version": 3
   },
   "file_extension": ".py",
   "mimetype": "text/x-python",
   "name": "python",
   "nbconvert_exporter": "python",
   "pygments_lexer": "ipython3",
   "version": "3.7.4"
  }
 },
 "nbformat": 4,
 "nbformat_minor": 2
}
